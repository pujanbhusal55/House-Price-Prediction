{
  "cells": [
    {
      "cell_type": "markdown",
      "metadata": {
        "id": "5ybUVPaIu-j2"
      },
      "source": [
        "##       House price prediction"
      ]
    },
    {
      "cell_type": "markdown",
      "metadata": {
        "id": "MYwrkptdq5Cr"
      },
      "source": [
        "The Data has been extracted from MagicBricks (a website, provides common platform to property buyer and seller ).\n",
        "\n",
        "There is, some of the attributes couldn't extract. Dataset consists of 12 columns and 1259 rows. 6 of the features are numerical valued and  remainder are categorical.\n"
      ]
    },
    {
      "cell_type": "markdown",
      "metadata": {
        "id": "5ts9JplCr2J1"
      },
      "source": [
        "There are some feature variables such as Area, BHK, Bathroom, Furnishing(furnishing or semi-furnishing or unfurnishing), Locality, parking, status(Ready to move or almost ready), transaction(new property or resale), Type(builder floor or Apartment)\n",
        "\n",
        "On the basis of feacture variable i want to predict the price of a house\n",
        "\n",
        "Here are feacture variable and it's data type\n",
        "\n",
        "* Area and it's data type is float        \n",
        "* BHK and it's data type is integer             \n",
        "* Bathroom   and it's data type is integer       \n",
        "* Furnishing (furnishing or semi-furnishing or unfurnishing) and it's data type is Categorical    \n",
        "* Locality and it's data type is object            \n",
        "* Parking  and it's data type is float                 \n",
        "* Status (Ready to move or almost ready) and it's data type is Categorical            \n",
        "* Transaction (new property or resale) it's data type is Categorical    \n",
        "* Type (builder floor or Apartment)  and it's data type is Categorical    \n",
        "* Per_Sqft and it's data type is float    \n",
        "\n",
        "On the basis of feature variables, I want to predict the price of a house\n",
        "\n"
      ]
    },
    {
      "cell_type": "markdown",
      "source": [
        "* I am going to read the data and related  other information about the dataset<br>\n",
        "then visualization Data preprocessing\n",
        "\n",
        "* In the Data visualization part, I will analyze how does target variable changes with the independent features.  I will see the correlation and analyze the correlated column. how if independent features increased and what impact or change occurs on the target variable using histogram, piechart, bar graph, distplot\n",
        "\n",
        "\n",
        "* In the Data cleaning part, if the outlier is present then I will remove the outlier and add or remove data according to need. I will remove or drop columns that are not correlated.\n",
        "I will change categorical data into a numeric type, fill value in the empty column and reduce some data.\n",
        "\n",
        "\n",
        "* I am going to use four models for this project that is Linear Regression, Random Forest, Gradient Boosting Regressor, and XGBoosting Regressor and analysis which models work perfectly in our datasets\n"
      ],
      "metadata": {
        "id": "vBW46xpdjVeO"
      }
    },
    {
      "cell_type": "code",
      "execution_count": null,
      "metadata": {
        "id": "7zqM_0i8u9Jp"
      },
      "outputs": [],
      "source": [
        "# Importing the necessary libraries\n",
        "import pandas as pd\n",
        "import numpy as np\n",
        "import matplotlib.pyplot as plt\n",
        "import seaborn as sns\n"
      ]
    },
    {
      "cell_type": "code",
      "execution_count": null,
      "metadata": {
        "colab": {
          "base_uri": "https://localhost:8080/",
          "height": 73,
          "resources": {
            "http://localhost:8080/nbextensions/google.colab/files.js": {
              "data": "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",
              "headers": [
                [
                  "content-type",
                  "application/javascript"
                ]
              ],
              "ok": true,
              "status": 200,
              "status_text": ""
            }
          }
        },
        "id": "nP7pX2GkwnmZ",
        "outputId": "77dc12a9-8cdf-443d-c6ce-a3284312d891"
      },
      "outputs": [
        {
          "output_type": "display_data",
          "data": {
            "text/html": [
              "\n",
              "     <input type=\"file\" id=\"files-8bc9f048-d9e5-4c56-b207-b8919010952c\" name=\"files[]\" multiple disabled\n",
              "        style=\"border:none\" />\n",
              "     <output id=\"result-8bc9f048-d9e5-4c56-b207-b8919010952c\">\n",
              "      Upload widget is only available when the cell has been executed in the\n",
              "      current browser session. Please rerun this cell to enable.\n",
              "      </output>\n",
              "      <script src=\"/nbextensions/google.colab/files.js\"></script> "
            ],
            "text/plain": [
              "<IPython.core.display.HTML object>"
            ]
          },
          "metadata": {}
        },
        {
          "output_type": "stream",
          "name": "stdout",
          "text": [
            "Saving MagicBricks.csv to MagicBricks (1).csv\n"
          ]
        }
      ],
      "source": [
        "from google.colab import files\n",
        "uploaded = files.upload()"
      ]
    },
    {
      "cell_type": "code",
      "execution_count": null,
      "metadata": {
        "id": "hVQc4NEKvs7Q",
        "colab": {
          "base_uri": "https://localhost:8080/"
        },
        "outputId": "58b6e578-ae62-4307-f2f0-6b5ade180ab9"
      },
      "outputs": [
        {
          "output_type": "stream",
          "name": "stdout",
          "text": [
            "    Area  BHK  Bathroom  ...   Transaction           Type  Per_Sqft\n",
            "0  800.0    3       2.0  ...  New_Property  Builder_Floor       NaN\n",
            "1  750.0    2       2.0  ...  New_Property      Apartment    6667.0\n",
            "2  950.0    2       2.0  ...        Resale      Apartment    6667.0\n",
            "3  600.0    2       2.0  ...        Resale  Builder_Floor    6667.0\n",
            "4  650.0    2       2.0  ...  New_Property  Builder_Floor    6667.0\n",
            "\n",
            "[5 rows x 11 columns]\n"
          ]
        }
      ],
      "source": [
        "#Reading file\n",
        "house = pd.read_csv('MagicBricks.csv')\n",
        "print(house.head())"
      ]
    },
    {
      "cell_type": "markdown",
      "metadata": {
        "id": "Q89kzELwzz9d"
      },
      "source": [
        "Renaming some column names\n"
      ]
    },
    {
      "cell_type": "code",
      "execution_count": null,
      "metadata": {
        "id": "KT3dykWm0YTZ",
        "colab": {
          "base_uri": "https://localhost:8080/"
        },
        "outputId": "292b0709-0896-465f-f2f3-b5b3096d46aa"
      },
      "outputs": [
        {
          "output_type": "stream",
          "name": "stdout",
          "text": [
            "<class 'pandas.core.frame.DataFrame'>\n",
            "RangeIndex: 1259 entries, 0 to 1258\n",
            "Data columns (total 11 columns):\n",
            " #   Column       Non-Null Count  Dtype  \n",
            "---  ------       --------------  -----  \n",
            " 0   Area         1259 non-null   float64\n",
            " 1   BHK          1259 non-null   int64  \n",
            " 2   Bathroom     1257 non-null   float64\n",
            " 3   Furnishing   1254 non-null   object \n",
            " 4   Locality     1259 non-null   object \n",
            " 5   Parking      1226 non-null   float64\n",
            " 6   Price        1259 non-null   int64  \n",
            " 7   Status       1259 non-null   object \n",
            " 8   Transaction  1259 non-null   object \n",
            " 9   Type         1254 non-null   object \n",
            " 10  Per_Sqft     1018 non-null   float64\n",
            "dtypes: float64(4), int64(2), object(5)\n",
            "memory usage: 108.3+ KB\n"
          ]
        }
      ],
      "source": [
        "# Checking data types and some info\n",
        "house.info()"
      ]
    },
    {
      "cell_type": "code",
      "execution_count": null,
      "metadata": {
        "id": "ahlFl3Gw0h9V",
        "colab": {
          "base_uri": "https://localhost:8080/"
        },
        "outputId": "7a99ea66-5dc6-47b7-ec77-6c4d25c961f7"
      },
      "outputs": [
        {
          "output_type": "execute_result",
          "data": {
            "text/plain": [
              "Area             0\n",
              "BHK              0\n",
              "Bathroom         2\n",
              "Furnishing       5\n",
              "Locality         0\n",
              "Parking         33\n",
              "Price            0\n",
              "Status           0\n",
              "Transaction      0\n",
              "Type             5\n",
              "Per_Sqft       241\n",
              "dtype: int64"
            ]
          },
          "metadata": {},
          "execution_count": 97
        }
      ],
      "source": [
        "# Searching for nulls\n",
        "house.isnull().sum()"
      ]
    },
    {
      "cell_type": "markdown",
      "metadata": {
        "id": "gCs3ssvEofPo"
      },
      "source": [
        "There are some missing values in the columns: Bathroom, Furnishing, Parking and Type and per_square"
      ]
    },
    {
      "cell_type": "code",
      "execution_count": null,
      "metadata": {
        "id": "QLozWH4k1-8_",
        "colab": {
          "base_uri": "https://localhost:8080/"
        },
        "outputId": "a23680d9-0fd7-43ad-c8f0-70c9b8f341d4"
      },
      "outputs": [
        {
          "output_type": "execute_result",
          "data": {
            "text/plain": [
              "Index(['Area', 'BHK', 'Bathroom', 'Furnishing', 'Locality', 'Parking', 'Price',\n",
              "       'Status', 'Transaction', 'Type', 'Per_Sqft'],\n",
              "      dtype='object')"
            ]
          },
          "metadata": {},
          "execution_count": 98
        }
      ],
      "source": [
        "# searching the coloumn\n",
        "house.columns"
      ]
    },
    {
      "cell_type": "code",
      "execution_count": null,
      "metadata": {
        "id": "EY3Sy1G1pkiW"
      },
      "outputs": [],
      "source": [
        "df = house.copy()  # Making a copy of the data frame\n",
        "# Now, we can freely edit the copy without loss of original data"
      ]
    },
    {
      "cell_type": "markdown",
      "source": [
        "A histogram depicts the number of instances (on the vertical axis) with a particular value range (on the horizontal axis). We can plot this one attribute at a time, or we can use the hist() method to plot a histogram for each number attribute throughout the whole dataset."
      ],
      "metadata": {
        "id": "dL8JWTPg7YXo"
      }
    },
    {
      "cell_type": "code",
      "execution_count": null,
      "metadata": {
        "id": "7E6hf2KkpSOv",
        "colab": {
          "base_uri": "https://localhost:8080/",
          "height": 295
        },
        "outputId": "1bbc796b-1bec-4648-d476-ec102fb43a50"
      },
      "outputs": [
        {
          "output_type": "display_data",
          "data": {
            "image/png": "[encoded data removed]",
            "text/plain": [
              "<Figure size 432x288 with 1 Axes>"
            ]
          },
          "metadata": {
            "needs_background": "light"
          }
        }
      ],
      "source": [
        "# plotting Histogram\n",
        "plt.hist(df[\"Area\"])\n",
        "plt.xlabel(\"Area\")\n",
        "plt.ylabel(\"Count of Records\")\n",
        "plt.title(\"Histogram of Area\")\n",
        "plt.show()"
      ]
    },
    {
      "cell_type": "markdown",
      "metadata": {
        "id": "SjYOfRHxp8B9"
      },
      "source": [
        "* The column is right skewed\n",
        "* maximum area of house is in 9 to 5000sqkm\n"
      ]
    },
    {
      "cell_type": "code",
      "execution_count": null,
      "metadata": {
        "id": "_1NVx_6Aq1_W",
        "colab": {
          "base_uri": "https://localhost:8080/",
          "height": 295
        },
        "outputId": "0d79b665-9f79-4412-ca1c-bf3bf59092a0"
      },
      "outputs": [
        {
          "output_type": "display_data",
          "data": {
            "image/png": "[encoded data removed]",
            "text/plain": [
              "<Figure size 432x288 with 1 Axes>"
            ]
          },
          "metadata": {
            "needs_background": "light"
          }
        }
      ],
      "source": [
        "# Histogram of Log(Area)\n",
        "plt.hist(np.log(df[\"Area\"]), bins=50)\n",
        "plt.xlabel(\"Log (Area)\")\n",
        "plt.ylabel(\"Count of Records\")\n",
        "plt.title(\"Histogram of Log(Area)\")\n",
        "plt.show()"
      ]
    },
    {
      "cell_type": "markdown",
      "metadata": {
        "id": "8fGhSTNFqaWa"
      },
      "source": [
        "\n",
        "There is concentrated closely near the mean of data points when looked at the histogram of log of Area"
      ]
    },
    {
      "cell_type": "code",
      "execution_count": null,
      "metadata": {
        "id": "1gnWzG1Sqnt0",
        "colab": {
          "base_uri": "https://localhost:8080/",
          "height": 334
        },
        "outputId": "61992baa-b12b-4916-9a05-f78d5a4d422e"
      },
      "outputs": [
        {
          "output_type": "stream",
          "name": "stderr",
          "text": [
            "/usr/local/lib/python3.7/dist-packages/seaborn/_decorators.py:43: FutureWarning: Pass the following variable as a keyword arg: x. From version 0.12, the only valid positional argument will be `data`, and passing other arguments without an explicit keyword will result in an error or misinterpretation.\n",
            "  FutureWarning\n"
          ]
        },
        {
          "output_type": "display_data",
          "data": {
            "image/png": "[encoded data removed]",
            "text/plain": [
              "<Figure size 432x288 with 1 Axes>"
            ]
          },
          "metadata": {
            "needs_background": "light"
          }
        }
      ],
      "source": [
        "# Bar plot for BHK\n",
        "sns.countplot(df[\"BHK\"])\n",
        "plt.show()"
      ]
    },
    {
      "cell_type": "markdown",
      "metadata": {
        "id": "XTkchiZqrw_V"
      },
      "source": [
        "\n",
        "\n",
        "*   There are more 3 BHK houses followed by 2 BHK, 4 BHK and 1 BHK.\n",
        "\n",
        "*   There are few records available for 5, 6, 7 and 10 BHK as well.\n",
        "\n"
      ]
    },
    {
      "cell_type": "code",
      "execution_count": null,
      "metadata": {
        "id": "z_aZJwver3hM",
        "colab": {
          "base_uri": "https://localhost:8080/",
          "height": 334
        },
        "outputId": "1221531b-e495-4a8c-85b8-43b3fb617455"
      },
      "outputs": [
        {
          "output_type": "stream",
          "name": "stderr",
          "text": [
            "/usr/local/lib/python3.7/dist-packages/seaborn/_decorators.py:43: FutureWarning: Pass the following variable as a keyword arg: x. From version 0.12, the only valid positional argument will be `data`, and passing other arguments without an explicit keyword will result in an error or misinterpretation.\n",
            "  FutureWarning\n"
          ]
        },
        {
          "output_type": "display_data",
          "data": {
            "image/png": "[encoded data removed]",
            "text/plain": [
              "<Figure size 432x288 with 1 Axes>"
            ]
          },
          "metadata": {
            "needs_background": "light"
          }
        }
      ],
      "source": [
        "# bar plot for Bathroom\n",
        "sns.countplot(df[\"Bathroom\"])\n",
        "plt.show()"
      ]
    },
    {
      "cell_type": "markdown",
      "metadata": {
        "id": "bDI-9bqRsKtx"
      },
      "source": [
        "* Most of the houses have 2 bathrooms.\n",
        "* About 350 of the houses have 3 bathrooms.\n",
        "* There are about 150 houses which have 1 bathroom or 4 bathrooms.\n",
        "* Some houses do have more than 4 bathrooms as well.\n",
        "\n"
      ]
    },
    {
      "cell_type": "code",
      "execution_count": null,
      "metadata": {
        "id": "ixd4KeSPsZ62",
        "colab": {
          "base_uri": "https://localhost:8080/",
          "height": 334
        },
        "outputId": "ebb6e0cb-d864-4bef-f423-3ef27e26591a"
      },
      "outputs": [
        {
          "output_type": "stream",
          "name": "stderr",
          "text": [
            "/usr/local/lib/python3.7/dist-packages/seaborn/_decorators.py:43: FutureWarning: Pass the following variable as a keyword arg: x. From version 0.12, the only valid positional argument will be `data`, and passing other arguments without an explicit keyword will result in an error or misinterpretation.\n",
            "  FutureWarning\n"
          ]
        },
        {
          "output_type": "display_data",
          "data": {
            "image/png": "[encoded data removed]",
            "text/plain": [
              "<Figure size 432x288 with 1 Axes>"
            ]
          },
          "metadata": {
            "needs_background": "light"
          }
        }
      ],
      "source": [
        "# Bar plot for Furnishing\n",
        "sns.countplot(df[\"Furnishing\"])\n",
        "plt.show()\n"
      ]
    },
    {
      "cell_type": "code",
      "execution_count": null,
      "metadata": {
        "id": "MPpach24v9Cq",
        "colab": {
          "base_uri": "https://localhost:8080/",
          "height": 265
        },
        "outputId": "edaaf0a0-0d66-4c17-f652-2205776510d6"
      },
      "outputs": [
        {
          "output_type": "execute_result",
          "data": {
            "text/plain": [
              "<matplotlib.axes._subplots.AxesSubplot at 0x7f62e09b1b50>"
            ]
          },
          "metadata": {},
          "execution_count": 105
        },
        {
          "output_type": "display_data",
          "data": {
            "image/png": "[encoded data removed]",
            "text/plain": [
              "<Figure size 432x288 with 1 Axes>"
            ]
          },
          "metadata": {}
        }
      ],
      "source": [
        "# Pie chart for Furnishing\n",
        "round(house['Furnishing'].value_counts()/house.shape[0]*100,3).plot.pie(autopct = '%1.1f%%', colors = ['lightcoral', 'pink','orange'])"
      ]
    },
    {
      "cell_type": "markdown",
      "metadata": {
        "id": "8koByxPNshkQ"
      },
      "source": [
        "* Majority around 56.5% of the houses are Semi-Furnished\n",
        "* 28.9% of the houses are UnFurnished\n",
        "* 14.6% of the houses are Furnished"
      ]
    },
    {
      "cell_type": "code",
      "execution_count": null,
      "metadata": {
        "id": "o7DPH7cmsm-Y",
        "colab": {
          "base_uri": "https://localhost:8080/",
          "height": 334
        },
        "outputId": "4f8f782c-0e10-4374-aeb1-699ae6c5344e"
      },
      "outputs": [
        {
          "output_type": "stream",
          "name": "stderr",
          "text": [
            "/usr/local/lib/python3.7/dist-packages/seaborn/_decorators.py:43: FutureWarning: Pass the following variable as a keyword arg: x. From version 0.12, the only valid positional argument will be `data`, and passing other arguments without an explicit keyword will result in an error or misinterpretation.\n",
            "  FutureWarning\n"
          ]
        },
        {
          "output_type": "display_data",
          "data": {
            "image/png": "[encoded data removed]",
            "text/plain": [
              "<Figure size 432x288 with 1 Axes>"
            ]
          },
          "metadata": {
            "needs_background": "light"
          }
        }
      ],
      "source": [
        "# Bar plot for parking\n",
        "sns.countplot(df[\"Parking\"])\n",
        "plt.show()"
      ]
    },
    {
      "cell_type": "markdown",
      "metadata": {
        "id": "pm06_vv68O2i"
      },
      "source": [
        "* majority of house have only one parking place"
      ]
    },
    {
      "cell_type": "code",
      "execution_count": null,
      "metadata": {
        "id": "iE-ZwVhcs-nY",
        "colab": {
          "base_uri": "https://localhost:8080/"
        },
        "outputId": "589c9b4a-fe62-4117-ad8c-b72097e15480"
      },
      "outputs": [
        {
          "output_type": "execute_result",
          "data": {
            "text/plain": [
              "1.0      796\n",
              "2.0      341\n",
              "3.0       54\n",
              "4.0       16\n",
              "5.0        7\n",
              "39.0       7\n",
              "114.0      3\n",
              "9.0        1\n",
              "10.0       1\n",
              "Name: Parking, dtype: int64"
            ]
          },
          "metadata": {},
          "execution_count": 107
        }
      ],
      "source": [
        "df[\"Parking\"].value_counts()"
      ]
    },
    {
      "cell_type": "markdown",
      "metadata": {
        "id": "n4ZzeAcg8j9D"
      },
      "source": [
        "* 796 houses have only one parking\n",
        "* 341 houses have two parking\n",
        "* 54 houses have three parking\n",
        "* 7 houses have 39 and 5 parking"
      ]
    },
    {
      "cell_type": "markdown",
      "metadata": {
        "id": "UmjeR0uTtFZP"
      },
      "source": [
        "* Parking column have some offset values like 39 and 114. We might need to check on the validity of these entries."
      ]
    },
    {
      "cell_type": "code",
      "execution_count": null,
      "metadata": {
        "id": "rGbhamwxtMnu",
        "colab": {
          "base_uri": "https://localhost:8080/",
          "height": 278
        },
        "outputId": "50c9fe89-686b-4962-cb49-e22a17624cc0"
      },
      "outputs": [
        {
          "output_type": "display_data",
          "data": {
            "image/png": "[encoded data removed]",
            "text/plain": [
              "<Figure size 432x288 with 1 Axes>"
            ]
          },
          "metadata": {
            "needs_background": "light"
          }
        }
      ],
      "source": [
        "# histogram for price\n",
        "plt.hist(df[\"Price\"])\n",
        "plt.show()"
      ]
    },
    {
      "cell_type": "code",
      "execution_count": null,
      "metadata": {
        "id": "leRUd7y9tWn7",
        "colab": {
          "base_uri": "https://localhost:8080/",
          "height": 265
        },
        "outputId": "a0391de9-6774-43fd-83ae-a56f6ad524a9"
      },
      "outputs": [
        {
          "output_type": "display_data",
          "data": {
            "image/png": "[encoded data removed]",
            "text/plain": [
              "<Figure size 432x288 with 1 Axes>"
            ]
          },
          "metadata": {
            "needs_background": "light"
          }
        }
      ],
      "source": [
        "plt.hist(np.log(df[\"Price\"]), bins=50)\n",
        "plt.show()"
      ]
    },
    {
      "cell_type": "markdown",
      "metadata": {
        "id": "rUdDnHIbtcoS"
      },
      "source": [
        "* Target variable \"Price\" is right skewed as well."
      ]
    },
    {
      "cell_type": "code",
      "execution_count": null,
      "metadata": {
        "id": "f8vjYpRgtfcs",
        "colab": {
          "base_uri": "https://localhost:8080/",
          "height": 335
        },
        "outputId": "7cbbced2-2fb8-470f-850f-89dbc229ef5a"
      },
      "outputs": [
        {
          "output_type": "stream",
          "name": "stderr",
          "text": [
            "/usr/local/lib/python3.7/dist-packages/seaborn/_decorators.py:43: FutureWarning: Pass the following variable as a keyword arg: x. From version 0.12, the only valid positional argument will be `data`, and passing other arguments without an explicit keyword will result in an error or misinterpretation.\n",
            "  FutureWarning\n"
          ]
        },
        {
          "output_type": "display_data",
          "data": {
            "image/png": "[encoded data removed]",
            "text/plain": [
              "<Figure size 432x288 with 1 Axes>"
            ]
          },
          "metadata": {
            "needs_background": "light"
          }
        }
      ],
      "source": [
        "# bar plot for Status\n",
        "sns.countplot(df[\"Status\"])\n",
        "plt.show()"
      ]
    },
    {
      "cell_type": "code",
      "execution_count": null,
      "metadata": {
        "id": "n5rU2PTHxHEi",
        "colab": {
          "base_uri": "https://localhost:8080/",
          "height": 265
        },
        "outputId": "259ca3ed-cb66-4630-fb5a-d40eaa543e0c"
      },
      "outputs": [
        {
          "output_type": "execute_result",
          "data": {
            "text/plain": [
              "<matplotlib.axes._subplots.AxesSubplot at 0x7f62e0c2ddd0>"
            ]
          },
          "metadata": {},
          "execution_count": 111
        },
        {
          "output_type": "display_data",
          "data": {
            "image/png": "[encoded data removed]",
            "text/plain": [
              "<Figure size 432x288 with 1 Axes>"
            ]
          },
          "metadata": {}
        }
      ],
      "source": [
        "# pic chart for status\n",
        "round(house['Status'].value_counts()/house.shape[0]*100,2).plot.pie(autopct = '%1.1f%%', colors = ['lightcoral', 'pink'])"
      ]
    },
    {
      "cell_type": "markdown",
      "metadata": {
        "id": "g9iN1X3Ntqse"
      },
      "source": [
        "* Most of the houses are in ready to move condition."
      ]
    },
    {
      "cell_type": "code",
      "execution_count": null,
      "metadata": {
        "id": "UWo27Xdrtsfl",
        "colab": {
          "base_uri": "https://localhost:8080/",
          "height": 335
        },
        "outputId": "f82076e4-06f2-4699-c06c-8d42d2251b31"
      },
      "outputs": [
        {
          "output_type": "stream",
          "name": "stderr",
          "text": [
            "/usr/local/lib/python3.7/dist-packages/seaborn/_decorators.py:43: FutureWarning: Pass the following variable as a keyword arg: x. From version 0.12, the only valid positional argument will be `data`, and passing other arguments without an explicit keyword will result in an error or misinterpretation.\n",
            "  FutureWarning\n"
          ]
        },
        {
          "output_type": "display_data",
          "data": {
            "image/png": "[encoded data removed]",
            "text/plain": [
              "<Figure size 432x288 with 1 Axes>"
            ]
          },
          "metadata": {
            "needs_background": "light"
          }
        }
      ],
      "source": [
        "# Bar plot for Transaction\n",
        "sns.countplot(df[\"Transaction\"])\n",
        "plt.show()"
      ]
    },
    {
      "cell_type": "code",
      "execution_count": null,
      "metadata": {
        "id": "eqTcalOgxYVE",
        "colab": {
          "base_uri": "https://localhost:8080/",
          "height": 265
        },
        "outputId": "4f41370f-313f-47b5-c44b-0a917f30fbcf"
      },
      "outputs": [
        {
          "output_type": "execute_result",
          "data": {
            "text/plain": [
              "<matplotlib.axes._subplots.AxesSubplot at 0x7f62e9c91e90>"
            ]
          },
          "metadata": {},
          "execution_count": 113
        },
        {
          "output_type": "display_data",
          "data": {
            "image/png": "[encoded data removed]",
            "text/plain": [
              "<Figure size 432x288 with 1 Axes>"
            ]
          },
          "metadata": {}
        }
      ],
      "source": [
        "# Pie chart for Transaction\n",
        "round(house['Transaction'].value_counts()/house.shape[0]*100,2).plot.pie(autopct = '%1.1f%%', colors = ['lightcoral', 'pink'])"
      ]
    },
    {
      "cell_type": "markdown",
      "metadata": {
        "id": "I7v-bqaXt5m4"
      },
      "source": [
        "* Majority of the houses are for Resale"
      ]
    },
    {
      "cell_type": "code",
      "execution_count": null,
      "metadata": {
        "id": "xBdIwD5Pt676",
        "colab": {
          "base_uri": "https://localhost:8080/",
          "height": 335
        },
        "outputId": "10c3be16-87b6-4997-dfff-9dacc8c0afc8"
      },
      "outputs": [
        {
          "output_type": "stream",
          "name": "stderr",
          "text": [
            "/usr/local/lib/python3.7/dist-packages/seaborn/_decorators.py:43: FutureWarning: Pass the following variable as a keyword arg: x. From version 0.12, the only valid positional argument will be `data`, and passing other arguments without an explicit keyword will result in an error or misinterpretation.\n",
            "  FutureWarning\n"
          ]
        },
        {
          "output_type": "display_data",
          "data": {
            "image/png": "[encoded data removed]",
            "text/plain": [
              "<Figure size 432x288 with 1 Axes>"
            ]
          },
          "metadata": {
            "needs_background": "light"
          }
        }
      ],
      "source": [
        "# Bar plot for Type\n",
        "sns.countplot(df[\"Type\"])\n",
        "plt.show()"
      ]
    },
    {
      "cell_type": "code",
      "execution_count": null,
      "metadata": {
        "id": "xpTrUZoWxnET",
        "colab": {
          "base_uri": "https://localhost:8080/",
          "height": 265
        },
        "outputId": "a3590325-2f58-4775-c3e4-754247b93f8f"
      },
      "outputs": [
        {
          "output_type": "execute_result",
          "data": {
            "text/plain": [
              "<matplotlib.axes._subplots.AxesSubplot at 0x7f62f5787f10>"
            ]
          },
          "metadata": {},
          "execution_count": 115
        },
        {
          "output_type": "display_data",
          "data": {
            "image/png": "[encoded data removed]",
            "text/plain": [
              "<Figure size 432x288 with 1 Axes>"
            ]
          },
          "metadata": {}
        }
      ],
      "source": [
        "# pie chart for Type\n",
        "round(house['Type'].value_counts()/house.shape[0]*100,2).plot.pie(autopct = '%1.1f%%', colors = ['lightcoral', 'pink'])"
      ]
    },
    {
      "cell_type": "code",
      "execution_count": null,
      "metadata": {
        "id": "zhLOS1zfuI2i",
        "colab": {
          "base_uri": "https://localhost:8080/"
        },
        "outputId": "e6c79b17-4e3a-476e-d934-d3a5468cdc23"
      },
      "outputs": [
        {
          "output_type": "execute_result",
          "data": {
            "text/plain": [
              "Builder_Floor    661\n",
              "Apartment        593\n",
              "Name: Type, dtype: int64"
            ]
          },
          "metadata": {},
          "execution_count": 116
        }
      ],
      "source": [
        "df[\"Type\"].value_counts()"
      ]
    },
    {
      "cell_type": "markdown",
      "metadata": {
        "id": "d05WFLJFuRc3"
      },
      "source": [
        "* There seems to almost equal number of house types: Apartment and Builder Floor but Builder Floor is a little more than Apartment"
      ]
    },
    {
      "cell_type": "code",
      "execution_count": null,
      "metadata": {
        "id": "T8a6MSt5ukCv",
        "colab": {
          "base_uri": "https://localhost:8080/",
          "height": 265
        },
        "outputId": "17e01d7b-aea2-4441-bc10-f4c029281b89"
      },
      "outputs": [
        {
          "output_type": "display_data",
          "data": {
            "image/png": "[encoded data removed]",
            "text/plain": [
              "<Figure size 432x288 with 1 Axes>"
            ]
          },
          "metadata": {
            "needs_background": "light"
          }
        }
      ],
      "source": [
        "# histogram for per sqft\n",
        "plt.hist(df[\"Per_Sqft\"])\n",
        "plt.show()"
      ]
    },
    {
      "cell_type": "code",
      "execution_count": null,
      "metadata": {
        "id": "aZsHB8-Izoq0",
        "colab": {
          "base_uri": "https://localhost:8080/",
          "height": 265
        },
        "outputId": "36092d09-04db-40f4-d3ef-4201d5fa5d17"
      },
      "outputs": [
        {
          "output_type": "display_data",
          "data": {
            "image/png": "[encoded data removed]",
            "text/plain": [
              "<Figure size 432x288 with 1 Axes>"
            ]
          },
          "metadata": {
            "needs_background": "light"
          }
        }
      ],
      "source": [
        "plt.hist(np.log(df[\"Per_Sqft\"]), bins=50)\n",
        "plt.show()"
      ]
    },
    {
      "cell_type": "markdown",
      "metadata": {
        "id": "fAeCAQTKzscB"
      },
      "source": [
        "* there seems to be outlier in data Per_Sqft"
      ]
    },
    {
      "cell_type": "code",
      "execution_count": null,
      "metadata": {
        "id": "SadXpk1a0BZZ",
        "colab": {
          "base_uri": "https://localhost:8080/",
          "height": 300
        },
        "outputId": "e1392f31-471b-4066-dc98-3ded13dca0db"
      },
      "outputs": [
        {
          "output_type": "execute_result",
          "data": {
            "text/html": [
              "\n",
              "  <div id=\"df-4993d32b-21d4-4a7c-8f17-f6e353ab6d6d\">\n",
              "    <div class=\"colab-df-container\">\n",
              "      <div>\n",
              "<style scoped>\n",
              "    .dataframe tbody tr th:only-of-type {\n",
              "        vertical-align: middle;\n",
              "    }\n",
              "\n",
              "    .dataframe tbody tr th {\n",
              "        vertical-align: top;\n",
              "    }\n",
              "\n",
              "    .dataframe thead th {\n",
              "        text-align: right;\n",
              "    }\n",
              "</style>\n",
              "<table border=\"1\" class=\"dataframe\">\n",
              "  <thead>\n",
              "    <tr style=\"text-align: right;\">\n",
              "      <th></th>\n",
              "      <th>Area</th>\n",
              "      <th>BHK</th>\n",
              "      <th>Bathroom</th>\n",
              "      <th>Parking</th>\n",
              "      <th>Price</th>\n",
              "      <th>Per_Sqft</th>\n",
              "    </tr>\n",
              "  </thead>\n",
              "  <tbody>\n",
              "    <tr>\n",
              "      <th>count</th>\n",
              "      <td>1259.000000</td>\n",
              "      <td>1259.000000</td>\n",
              "      <td>1257.000000</td>\n",
              "      <td>1226.000000</td>\n",
              "      <td>1.259000e+03</td>\n",
              "      <td>1018.000000</td>\n",
              "    </tr>\n",
              "    <tr>\n",
              "      <th>mean</th>\n",
              "      <td>1466.452724</td>\n",
              "      <td>2.796664</td>\n",
              "      <td>2.556086</td>\n",
              "      <td>1.935563</td>\n",
              "      <td>2.130670e+07</td>\n",
              "      <td>15690.136542</td>\n",
              "    </tr>\n",
              "    <tr>\n",
              "      <th>std</th>\n",
              "      <td>1568.055040</td>\n",
              "      <td>0.954425</td>\n",
              "      <td>1.042220</td>\n",
              "      <td>6.279212</td>\n",
              "      <td>2.560115e+07</td>\n",
              "      <td>21134.738568</td>\n",
              "    </tr>\n",
              "    <tr>\n",
              "      <th>min</th>\n",
              "      <td>28.000000</td>\n",
              "      <td>1.000000</td>\n",
              "      <td>1.000000</td>\n",
              "      <td>1.000000</td>\n",
              "      <td>1.000000e+06</td>\n",
              "      <td>1259.000000</td>\n",
              "    </tr>\n",
              "    <tr>\n",
              "      <th>25%</th>\n",
              "      <td>800.000000</td>\n",
              "      <td>2.000000</td>\n",
              "      <td>2.000000</td>\n",
              "      <td>1.000000</td>\n",
              "      <td>5.700000e+06</td>\n",
              "      <td>6364.000000</td>\n",
              "    </tr>\n",
              "    <tr>\n",
              "      <th>50%</th>\n",
              "      <td>1200.000000</td>\n",
              "      <td>3.000000</td>\n",
              "      <td>2.000000</td>\n",
              "      <td>1.000000</td>\n",
              "      <td>1.420000e+07</td>\n",
              "      <td>11291.500000</td>\n",
              "    </tr>\n",
              "    <tr>\n",
              "      <th>75%</th>\n",
              "      <td>1700.000000</td>\n",
              "      <td>3.000000</td>\n",
              "      <td>3.000000</td>\n",
              "      <td>2.000000</td>\n",
              "      <td>2.550000e+07</td>\n",
              "      <td>18000.000000</td>\n",
              "    </tr>\n",
              "    <tr>\n",
              "      <th>max</th>\n",
              "      <td>24300.000000</td>\n",
              "      <td>10.000000</td>\n",
              "      <td>7.000000</td>\n",
              "      <td>114.000000</td>\n",
              "      <td>2.400000e+08</td>\n",
              "      <td>183333.000000</td>\n",
              "    </tr>\n",
              "  </tbody>\n",
              "</table>\n",
              "</div>\n",
              "      <button class=\"colab-df-convert\" onclick=\"convertToInteractive('df-4993d32b-21d4-4a7c-8f17-f6e353ab6d6d')\"\n",
              "              title=\"Convert this dataframe to an interactive table.\"\n",
              "              style=\"display:none;\">\n",
              "        \n",
              "  <svg xmlns=\"http://www.w3.org/2000/svg\" height=\"24px\"viewBox=\"0 0 24 24\"\n",
              "       width=\"24px\">\n",
              "    <path d=\"M0 0h24v24H0V0z\" fill=\"none\"/>\n",
              "    <path d=\"M18.56 5.44l.94 2.06.94-2.06 2.06-.94-2.06-.94-.94-2.06-.94 2.06-2.06.94zm-11 1L8.5 8.5l.94-2.06 2.06-.94-2.06-.94L8.5 2.5l-.94 2.06-2.06.94zm10 10l.94 2.06.94-2.06 2.06-.94-2.06-.94-.94-2.06-.94 2.06-2.06.94z\"/><path d=\"M17.41 7.96l-1.37-1.37c-.4-.4-.92-.59-1.43-.59-.52 0-1.04.2-1.43.59L10.3 9.45l-7.72 7.72c-.78.78-.78 2.05 0 2.83L4 21.41c.39.39.9.59 1.41.59.51 0 1.02-.2 1.41-.59l7.78-7.78 2.81-2.81c.8-.78.8-2.07 0-2.86zM5.41 20L4 18.59l7.72-7.72 1.47 1.35L5.41 20z\"/>\n",
              "  </svg>\n",
              "      </button>\n",
              "      \n",
              "  <style>\n",
              "    .colab-df-container {\n",
              "      display:flex;\n",
              "      flex-wrap:wrap;\n",
              "      gap: 12px;\n",
              "    }\n",
              "\n",
              "    .colab-df-convert {\n",
              "      background-color: #E8F0FE;\n",
              "      border: none;\n",
              "      border-radius: 50%;\n",
              "      cursor: pointer;\n",
              "      display: none;\n",
              "      fill: #1967D2;\n",
              "      height: 32px;\n",
              "      padding: 0 0 0 0;\n",
              "      width: 32px;\n",
              "    }\n",
              "\n",
              "    .colab-df-convert:hover {\n",
              "      background-color: #E2EBFA;\n",
              "      box-shadow: 0px 1px 2px rgba(60, 64, 67, 0.3), 0px 1px 3px 1px rgba(60, 64, 67, 0.15);\n",
              "      fill: #174EA6;\n",
              "    }\n",
              "\n",
              "    [theme=dark] .colab-df-convert {\n",
              "      background-color: #3B4455;\n",
              "      fill: #D2E3FC;\n",
              "    }\n",
              "\n",
              "    [theme=dark] .colab-df-convert:hover {\n",
              "      background-color: #434B5C;\n",
              "      box-shadow: 0px 1px 3px 1px rgba(0, 0, 0, 0.15);\n",
              "      filter: drop-shadow(0px 1px 2px rgba(0, 0, 0, 0.3));\n",
              "      fill: #FFFFFF;\n",
              "    }\n",
              "  </style>\n",
              "\n",
              "      <script>\n",
              "        const buttonEl =\n",
              "          document.querySelector('#df-4993d32b-21d4-4a7c-8f17-f6e353ab6d6d button.colab-df-convert');\n",
              "        buttonEl.style.display =\n",
              "          google.colab.kernel.accessAllowed ? 'block' : 'none';\n",
              "\n",
              "        async function convertToInteractive(key) {\n",
              "          const element = document.querySelector('#df-4993d32b-21d4-4a7c-8f17-f6e353ab6d6d');\n",
              "          const dataTable =\n",
              "            await google.colab.kernel.invokeFunction('convertToInteractive',\n",
              "                                                     [key], {});\n",
              "          if (!dataTable) return;\n",
              "\n",
              "          const docLinkHtml = 'Like what you see? Visit the ' +\n",
              "            '<a target=\"_blank\" href=https://colab.research.google.com/notebooks/data_table.ipynb>data table notebook</a>'\n",
              "            + ' to learn more about interactive tables.';\n",
              "          element.innerHTML = '';\n",
              "          dataTable['output_type'] = 'display_data';\n",
              "          await google.colab.output.renderOutput(dataTable, element);\n",
              "          const docLink = document.createElement('div');\n",
              "          docLink.innerHTML = docLinkHtml;\n",
              "          element.appendChild(docLink);\n",
              "        }\n",
              "      </script>\n",
              "    </div>\n",
              "  </div>\n",
              "  "
            ],
            "text/plain": [
              "               Area          BHK  ...         Price       Per_Sqft\n",
              "count   1259.000000  1259.000000  ...  1.259000e+03    1018.000000\n",
              "mean    1466.452724     2.796664  ...  2.130670e+07   15690.136542\n",
              "std     1568.055040     0.954425  ...  2.560115e+07   21134.738568\n",
              "min       28.000000     1.000000  ...  1.000000e+06    1259.000000\n",
              "25%      800.000000     2.000000  ...  5.700000e+06    6364.000000\n",
              "50%     1200.000000     3.000000  ...  1.420000e+07   11291.500000\n",
              "75%     1700.000000     3.000000  ...  2.550000e+07   18000.000000\n",
              "max    24300.000000    10.000000  ...  2.400000e+08  183333.000000\n",
              "\n",
              "[8 rows x 6 columns]"
            ]
          },
          "metadata": {},
          "execution_count": 119
        }
      ],
      "source": [
        "df.describe()"
      ]
    },
    {
      "cell_type": "markdown",
      "source": [
        "* Here, i have find what data is saying\n",
        "* The total number of values in a column is called the count.\n",
        "  The mean of a column is its mean.\n",
        "* std is the column's standard deviation, which indicates how spread  the  values are.\n",
        "* The standard deviation is the square root of the variance, which is the average of the squared deviation from the mean, and is commonly symbolized by (the Greek letter sigma). When a feature's normal distribution is bell-shaped (also called a Gaussian distribution).\n",
        "\n",
        "* In a given column, min is the lowest number and max is the highest value.\n",
        "* The corresponding percentiles are shown in the 25 percent, 50 percent, and 75 percent rows: A percentile is a figure below which a certain percentage of observations in a collection of observations fall."
      ],
      "metadata": {
        "id": "woJGQZx13gc1"
      }
    },
    {
      "cell_type": "markdown",
      "metadata": {
        "id": "3Cxfy4-v0GDC"
      },
      "source": [
        "* There might be outliers in the data, specially in the columns: Area, Parking, Price and Per_Sqft because we can see 28 is minimum and 24300 is maximum. there is huge difference"
      ]
    },
    {
      "cell_type": "markdown",
      "metadata": {
        "id": "RlV3EemD3pYK"
      },
      "source": [
        "**Now, i going to analysis how does the Target variable change with the independent features**"
      ]
    },
    {
      "cell_type": "code",
      "execution_count": null,
      "metadata": {
        "id": "lkC1tlcs32fN",
        "colab": {
          "base_uri": "https://localhost:8080/"
        },
        "outputId": "84ad7bdd-4c05-4a33-b01b-8ba6b8b3313e"
      },
      "outputs": [
        {
          "output_type": "execute_result",
          "data": {
            "text/plain": [
              "Index(['Area', 'BHK', 'Bathroom', 'Furnishing', 'Locality', 'Parking', 'Price',\n",
              "       'Status', 'Transaction', 'Type', 'Per_Sqft'],\n",
              "      dtype='object')"
            ]
          },
          "metadata": {},
          "execution_count": 120
        }
      ],
      "source": [
        "df.columns"
      ]
    },
    {
      "cell_type": "markdown",
      "metadata": {
        "id": "OSsHVhPD4Au2"
      },
      "source": [
        "At first with Continuous numeric features"
      ]
    },
    {
      "cell_type": "code",
      "execution_count": null,
      "metadata": {
        "id": "L6hx2wgI4eI_",
        "colab": {
          "base_uri": "https://localhost:8080/",
          "height": 290
        },
        "outputId": "d6f837c1-3bcf-4741-dcf2-a7ed566f815b"
      },
      "outputs": [
        {
          "output_type": "display_data",
          "data": {
            "image/png": "[encoded data removed]",
            "text/plain": [
              "<Figure size 432x288 with 1 Axes>"
            ]
          },
          "metadata": {
            "needs_background": "light"
          }
        }
      ],
      "source": [
        "# scatterplot of Area and price\n",
        "sns.scatterplot(x=df[\"Area\"], y=df[\"Price\"])\n",
        "plt.show()"
      ]
    },
    {
      "cell_type": "markdown",
      "metadata": {
        "id": "hZ_qNW2O4xS_"
      },
      "source": [
        "* The house price rises as the Area increases.\n",
        "* There are some outliers with more than 10000 Area."
      ]
    },
    {
      "cell_type": "code",
      "execution_count": null,
      "metadata": {
        "colab": {
          "base_uri": "https://localhost:8080/",
          "height": 291
        },
        "id": "JEN0tkC047io",
        "outputId": "6a5660d7-d973-448b-a062-a0d6e8ab720d"
      },
      "outputs": [
        {
          "output_type": "display_data",
          "data": {
            "image/png": "[encoded data removed]",
            "text/plain": [
              "<Figure size 432x288 with 1 Axes>"
            ]
          },
          "metadata": {
            "needs_background": "light"
          }
        }
      ],
      "source": [
        "# scatterplot of Per_Sqft and price\n",
        "sns.scatterplot(x=df[\"Per_Sqft\"], y=df[\"Price\"])\n",
        "plt.show()"
      ]
    },
    {
      "cell_type": "code",
      "execution_count": null,
      "metadata": {
        "colab": {
          "base_uri": "https://localhost:8080/",
          "height": 280
        },
        "id": "mTsZegnm5Y_n",
        "outputId": "23dc6ce8-30be-43eb-e459-66c3f47b4ac9"
      },
      "outputs": [
        {
          "output_type": "display_data",
          "data": {
            "image/png": "[encoded data removed]",
            "text/plain": [
              "<Figure size 432x288 with 1 Axes>"
            ]
          },
          "metadata": {
            "needs_background": "light"
          }
        }
      ],
      "source": [
        "sns.scatterplot(x=np.log(df[\"Per_Sqft\"]), y=np.log(df[\"Price\"]))\n",
        "plt.show()"
      ]
    },
    {
      "cell_type": "markdown",
      "metadata": {
        "id": "U6U-OMTw5g5Z"
      },
      "source": [
        "* There is no visible trend in the actual values of the Per_Sqft with Price. However, the their logs show near linear relationship"
      ]
    },
    {
      "cell_type": "markdown",
      "metadata": {
        "id": "uJnJprCQ5q3A"
      },
      "source": [
        "**Discrete numeric features**"
      ]
    },
    {
      "cell_type": "code",
      "execution_count": null,
      "metadata": {
        "colab": {
          "base_uri": "https://localhost:8080/"
        },
        "id": "1UbbUkqI5tNz",
        "outputId": "d7c4cc65-8022-4e1d-a478-1430edfda18a"
      },
      "outputs": [
        {
          "output_type": "execute_result",
          "data": {
            "text/plain": [
              "Index(['Area', 'BHK', 'Bathroom', 'Furnishing', 'Locality', 'Parking', 'Price',\n",
              "       'Status', 'Transaction', 'Type', 'Per_Sqft'],\n",
              "      dtype='object')"
            ]
          },
          "metadata": {},
          "execution_count": 124
        }
      ],
      "source": [
        "df.columns"
      ]
    },
    {
      "cell_type": "code",
      "execution_count": null,
      "metadata": {
        "colab": {
          "base_uri": "https://localhost:8080/",
          "height": 290
        },
        "id": "WmDcsG4c53Zn",
        "outputId": "e9b9ce7d-668e-41ed-8dd9-32845ebdec03"
      },
      "outputs": [
        {
          "output_type": "display_data",
          "data": {
            "image/png": "[encoded data removed]",
            "text/plain": [
              "<Figure size 432x288 with 1 Axes>"
            ]
          },
          "metadata": {
            "needs_background": "light"
          }
        }
      ],
      "source": [
        "# comparison between BHK and price\n",
        "temp = pd.pivot_table(data=df, index=\"BHK\", aggfunc=\"median\")\n",
        "sns.barplot(x=temp.index,y=temp.Price)\n",
        "plt.show()"
      ]
    },
    {
      "cell_type": "markdown",
      "metadata": {
        "id": "iHG4PX6C6EpJ"
      },
      "source": [
        "* The houses see a rise in the Price as the number of BHK increase upto 5 and then it sees a sharp decline in the Prices for 6, 7 and 10"
      ]
    },
    {
      "cell_type": "code",
      "execution_count": null,
      "metadata": {
        "colab": {
          "base_uri": "https://localhost:8080/",
          "height": 290
        },
        "id": "Utez_RE-6GnJ",
        "outputId": "736ffb4a-1174-4ce4-d17f-513b67fee8f3"
      },
      "outputs": [
        {
          "output_type": "display_data",
          "data": {
            "image/png": "[encoded data removed]",
            "text/plain": [
              "<Figure size 432x288 with 1 Axes>"
            ]
          },
          "metadata": {
            "needs_background": "light"
          }
        }
      ],
      "source": [
        "# comparison between Bathroom and price\n",
        "temp = pd.pivot_table(data=df, index=\"Bathroom\", aggfunc=\"median\")\n",
        "sns.barplot(x=temp.index,y=temp.Price)\n",
        "plt.show()"
      ]
    },
    {
      "cell_type": "markdown",
      "metadata": {
        "id": "IY_JpMKd60pL"
      },
      "source": [
        "* The house prices normally increase as the number of bathroom increase."
      ]
    },
    {
      "cell_type": "code",
      "execution_count": null,
      "metadata": {
        "colab": {
          "base_uri": "https://localhost:8080/",
          "height": 290
        },
        "id": "1o1PTxer62rD",
        "outputId": "c8e83cd8-1023-4e80-83ea-e10b0f7c8b36"
      },
      "outputs": [
        {
          "output_type": "display_data",
          "data": {
            "image/png": "[encoded data removed]",
            "text/plain": [
              "<Figure size 432x288 with 1 Axes>"
            ]
          },
          "metadata": {
            "needs_background": "light"
          }
        }
      ],
      "source": [
        "# comparison between Parking and price\n",
        "temp = pd.pivot_table(data=df, index=\"Parking\", aggfunc=\"median\")\n",
        "sns.barplot(x=temp.index,y=temp.Price)\n",
        "plt.show()"
      ]
    },
    {
      "cell_type": "markdown",
      "metadata": {
        "id": "jKbPWoUl7F2X"
      },
      "source": [
        "* Upto 3 parking slots, the prices increase and further decreases.\n",
        "* There is only 1 record with Parking value as 9. This could an outlier."
      ]
    },
    {
      "cell_type": "markdown",
      "metadata": {
        "id": "rGmmnjRD7VMh"
      },
      "source": [
        "**Categorical Features**"
      ]
    },
    {
      "cell_type": "code",
      "execution_count": null,
      "metadata": {
        "colab": {
          "base_uri": "https://localhost:8080/"
        },
        "id": "9-tLoOjy7cUU",
        "outputId": "642de1c9-3315-4e24-d8b9-99d0392527b8"
      },
      "outputs": [
        {
          "output_type": "execute_result",
          "data": {
            "text/plain": [
              "Index(['Area', 'BHK', 'Bathroom', 'Furnishing', 'Locality', 'Parking', 'Price',\n",
              "       'Status', 'Transaction', 'Type', 'Per_Sqft'],\n",
              "      dtype='object')"
            ]
          },
          "metadata": {},
          "execution_count": 128
        }
      ],
      "source": [
        "df.columns"
      ]
    },
    {
      "cell_type": "code",
      "execution_count": null,
      "metadata": {
        "colab": {
          "base_uri": "https://localhost:8080/",
          "height": 290
        },
        "id": "nZFF8WfP7kGP",
        "outputId": "f836e0dd-cc07-47f8-e112-89012471c719"
      },
      "outputs": [
        {
          "output_type": "display_data",
          "data": {
            "image/png": "[encoded data removed]",
            "text/plain": [
              "<Figure size 432x288 with 1 Axes>"
            ]
          },
          "metadata": {
            "needs_background": "light"
          }
        }
      ],
      "source": [
        "\n",
        "# comparison between Furnishing and price\n",
        "temp = pd.pivot_table(data=df, index=\"Furnishing\", aggfunc=\"median\")\n",
        "sns.barplot(x=temp.index,y=temp.Price)\n",
        "plt.show()"
      ]
    },
    {
      "cell_type": "markdown",
      "metadata": {
        "id": "kxszwAMWFeMY"
      },
      "source": [
        "* There is nothing much change on Furnishing when price increase"
      ]
    },
    {
      "cell_type": "code",
      "execution_count": null,
      "metadata": {
        "colab": {
          "base_uri": "https://localhost:8080/",
          "height": 291
        },
        "id": "iw8WWp8v79jQ",
        "outputId": "e47c747b-a6ba-44d5-b410-eee9c9e7c8d4"
      },
      "outputs": [
        {
          "output_type": "display_data",
          "data": {
            "image/png": "[encoded data removed]",
            "text/plain": [
              "<Figure size 432x288 with 1 Axes>"
            ]
          },
          "metadata": {
            "needs_background": "light"
          }
        }
      ],
      "source": [
        "# comparison between Status and price\n",
        "temp = pd.pivot_table(data=df, index=\"Status\", aggfunc=\"median\")\n",
        "sns.barplot(x=temp.index,y=temp.Price)\n",
        "plt.show()"
      ]
    },
    {
      "cell_type": "markdown",
      "metadata": {
        "id": "tkVBpSCsZzAQ"
      },
      "source": [
        "* The ready to move houses have a higher price"
      ]
    },
    {
      "cell_type": "code",
      "execution_count": null,
      "metadata": {
        "colab": {
          "base_uri": "https://localhost:8080/",
          "height": 291
        },
        "id": "MkU3TJ2M8KQs",
        "outputId": "4b343730-e644-4b84-ded2-9dac41f2a8df"
      },
      "outputs": [
        {
          "output_type": "display_data",
          "data": {
            "image/png": "[encoded data removed]",
            "text/plain": [
              "<Figure size 432x288 with 1 Axes>"
            ]
          },
          "metadata": {
            "needs_background": "light"
          }
        }
      ],
      "source": [
        "# comparison between Transaction and price\n",
        "temp = pd.pivot_table(data=df, index=\"Transaction\", aggfunc=\"median\")\n",
        "sns.barplot(x=temp.index,y=temp.Price)\n",
        "plt.show()"
      ]
    },
    {
      "cell_type": "code",
      "execution_count": null,
      "metadata": {
        "colab": {
          "base_uri": "https://localhost:8080/",
          "height": 291
        },
        "id": "AuY2G_Rs8Scr",
        "outputId": "5fb4f6a4-90bf-4e77-e494-6bd67410d2f8"
      },
      "outputs": [
        {
          "output_type": "display_data",
          "data": {
            "image/png": "[encoded data removed]",
            "text/plain": [
              "<Figure size 432x288 with 1 Axes>"
            ]
          },
          "metadata": {
            "needs_background": "light"
          }
        }
      ],
      "source": [
        "# comparison between Type and price\n",
        "temp = pd.pivot_table(data=df, index=\"Type\", aggfunc=\"median\")\n",
        "sns.barplot(x=temp.index,y=temp.Price)\n",
        "plt.show()\n"
      ]
    },
    {
      "cell_type": "markdown",
      "metadata": {
        "id": "WmA3drqbXPVn"
      },
      "source": [
        "* The ready to move houses have a higher price.\n",
        "* Other than the Status, no other categorical column seems to have any     major impact on the average price of the houses."
      ]
    },
    {
      "cell_type": "code",
      "execution_count": null,
      "metadata": {
        "colab": {
          "base_uri": "https://localhost:8080/",
          "height": 358
        },
        "id": "s2BzLz9Ha1eU",
        "outputId": "00ea6292-4e3c-43cf-b705-2e2bd875ed36"
      },
      "outputs": [
        {
          "output_type": "display_data",
          "data": {
            "image/png": "[encoded data removed]",
            "text/plain": [
              "<Figure size 1296x1296 with 18 Axes>"
            ]
          },
          "metadata": {
            "needs_background": "light"
          }
        }
      ],
      "source": [
        "# Checking outliers\n",
        "df.plot(kind = \"box\" , subplots = True , figsize = (18,18) ,  layout = (6,3))\n",
        "plt.show()"
      ]
    },
    {
      "cell_type": "markdown",
      "metadata": {
        "id": "OG1FEbBEbauH"
      },
      "source": [
        "* There is outliers in the columns due to variability in the data as earlier we have seen there is a huge different between min and maxamim value Area and other coloumn"
      ]
    },
    {
      "cell_type": "markdown",
      "source": [
        "* The standard correlation coefficient between every pair of attributes can be easily computed using the corr() method because the dataset is not too large."
      ],
      "metadata": {
        "id": "b0W06hNS8Gpu"
      }
    },
    {
      "cell_type": "code",
      "execution_count": null,
      "metadata": {
        "colab": {
          "base_uri": "https://localhost:8080/"
        },
        "id": "6DBPUsWWbnT2",
        "outputId": "7b62aeb9-a391-464b-f3d5-8c102b823141"
      },
      "outputs": [
        {
          "output_type": "stream",
          "name": "stdout",
          "text": [
            "              Area       BHK  Bathroom   Parking     Price  Per_Sqft\n",
            "Area      1.000000  0.449438  0.535104 -0.009297  0.580836  0.162832\n",
            "BHK       0.449438  1.000000  0.773267 -0.070707  0.571523  0.181540\n",
            "Bathroom  0.535104  0.773267  1.000000 -0.032796  0.728108  0.219169\n",
            "Parking  -0.009297 -0.070707 -0.032796  1.000000 -0.000448  0.001607\n",
            "Price     0.580836  0.571523  0.728108 -0.000448  1.000000  0.322859\n",
            "Per_Sqft  0.162832  0.181540  0.219169  0.001607  0.322859  1.000000\n"
          ]
        }
      ],
      "source": [
        "# for corelation\n",
        "corr_matrix = house.corr()\n",
        "print(corr_matrix)"
      ]
    },
    {
      "cell_type": "markdown",
      "source": [
        "The correlation coefficient might be anywhere between –1 and 1. When it's close to 1, it suggests there's a significant positive relationship; for example, when the Area rises, the BHK value rises as well. When the coefficient is close to –1, a strong negative connection is present. There is no linear link if the coefficients are close to zero."
      ],
      "metadata": {
        "id": "YjLWzTxf8l6A"
      }
    },
    {
      "cell_type": "markdown",
      "metadata": {
        "id": "cZx7cwR-tAE0"
      },
      "source": [
        "A correlation heatmap uses colored cells, typically in a monochromatic scale to show a 2D correlation matrix(table) between two discreate or events type. it is very important in feacture selection"
      ]
    },
    {
      "cell_type": "code",
      "execution_count": null,
      "metadata": {
        "colab": {
          "base_uri": "https://localhost:8080/"
        },
        "id": "C9GvmXa9cVFY",
        "outputId": "2e2dba9d-c895-45e9-978f-02870a7c4e6c"
      },
      "outputs": [
        {
          "output_type": "execute_result",
          "data": {
            "text/plain": [
              "Price       1.000000\n",
              "Bathroom    0.728108\n",
              "Area        0.580836\n",
              "BHK         0.571523\n",
              "Per_Sqft    0.322859\n",
              "Parking    -0.000448\n",
              "Name: Price, dtype: float64"
            ]
          },
          "metadata": {},
          "execution_count": 135
        }
      ],
      "source": [
        "# for corelation\n",
        "corr = df.corr()\n",
        "corr[\"Price\"].sort_values(ascending=False)"
      ]
    },
    {
      "cell_type": "markdown",
      "metadata": {
        "id": "a8oPyt2ldWO9"
      },
      "source": [
        "We notice a few key points here, which will be the main basis of our project\n",
        "\n",
        "1- Price's strongest correlations are with: Area, BHK,Bathroom,per_sqft so we will check for more info about those four specifically.\n",
        "\n",
        "\n",
        "3- Parking features are weakly correlated."
      ]
    },
    {
      "cell_type": "markdown",
      "metadata": {
        "id": "STz5JTnCmMkh"
      },
      "source": [
        "Here we canot considerd the categorical data we can change into numberical\n",
        "\n",
        "and see if they are have correlation with price or not"
      ]
    },
    {
      "cell_type": "code",
      "execution_count": null,
      "metadata": {
        "id": "LcjQbXqAh-WX",
        "colab": {
          "base_uri": "https://localhost:8080/",
          "height": 813
        },
        "outputId": "17cf2689-a4bb-49bf-9328-4cddea831fef"
      },
      "outputs": [
        {
          "output_type": "execute_result",
          "data": {
            "text/plain": [
              "array([[<matplotlib.axes._subplots.AxesSubplot object at 0x7f62e0700490>,\n",
              "        <matplotlib.axes._subplots.AxesSubplot object at 0x7f62e0bd3310>,\n",
              "        <matplotlib.axes._subplots.AxesSubplot object at 0x7f62e0781910>,\n",
              "        <matplotlib.axes._subplots.AxesSubplot object at 0x7f62e0940f10>],\n",
              "       [<matplotlib.axes._subplots.AxesSubplot object at 0x7f62e0625550>,\n",
              "        <matplotlib.axes._subplots.AxesSubplot object at 0x7f62e05dba90>,\n",
              "        <matplotlib.axes._subplots.AxesSubplot object at 0x7f62e0592f50>,\n",
              "        <matplotlib.axes._subplots.AxesSubplot object at 0x7f62e0553490>],\n",
              "       [<matplotlib.axes._subplots.AxesSubplot object at 0x7f62e05534d0>,\n",
              "        <matplotlib.axes._subplots.AxesSubplot object at 0x7f62e0509ad0>,\n",
              "        <matplotlib.axes._subplots.AxesSubplot object at 0x7f62e0485450>,\n",
              "        <matplotlib.axes._subplots.AxesSubplot object at 0x7f62e095d710>],\n",
              "       [<matplotlib.axes._subplots.AxesSubplot object at 0x7f62e9d00810>,\n",
              "        <matplotlib.axes._subplots.AxesSubplot object at 0x7f62e0a9e890>,\n",
              "        <matplotlib.axes._subplots.AxesSubplot object at 0x7f62e0b5ec90>,\n",
              "        <matplotlib.axes._subplots.AxesSubplot object at 0x7f62e0c9d310>]],\n",
              "      dtype=object)"
            ]
          },
          "metadata": {},
          "execution_count": 136
        },
        {
          "output_type": "display_data",
          "data": {
            "image/png": "[encoded data removed]",
            "text/plain": [
              "<Figure size 864x576 with 16 Axes>"
            ]
          },
          "metadata": {
            "needs_background": "light"
          }
        }
      ],
      "source": [
        "from pandas.plotting import scatter_matrix\n",
        "attributes = [\"Bathroom\", \"Area\", \"BHK\", \"Per_Sqft\"]\n",
        "scatter_matrix(house[attributes], figsize = (12,8))"
      ]
    },
    {
      "cell_type": "markdown",
      "metadata": {
        "id": "v26bBWrGFHaU"
      },
      "source": [
        "* there is present of outliner in our dataset"
      ]
    },
    {
      "cell_type": "markdown",
      "metadata": {
        "id": "HXhS08khmtxd"
      },
      "source": [
        "# Data cleaning\n"
      ]
    },
    {
      "cell_type": "markdown",
      "metadata": {
        "id": "3tHrgmU_AC3-"
      },
      "source": [
        "* In our datasets there is many outlier so we have clean the data by      Changing categorical data to numeric type, fill values in empty coloumn,  droping the coloumn which is actualy not need, reducing some data\n",
        "\n",
        "* we have to have no missing value in the dataset."
      ]
    },
    {
      "cell_type": "code",
      "execution_count": null,
      "metadata": {
        "id": "vKqY3jPvjPFs",
        "colab": {
          "base_uri": "https://localhost:8080/"
        },
        "outputId": "0195fb13-0479-4c62-bd77-a9b4b14d3cf6"
      },
      "outputs": [
        {
          "output_type": "execute_result",
          "data": {
            "text/plain": [
              "Builder_Floor    661\n",
              "Apartment        593\n",
              "Name: Type, dtype: int64"
            ]
          },
          "metadata": {},
          "execution_count": 137
        }
      ],
      "source": [
        "house['Type'].value_counts()"
      ]
    },
    {
      "cell_type": "code",
      "execution_count": null,
      "metadata": {
        "id": "ZE16FCe_jTBD"
      },
      "outputs": [],
      "source": [
        "# Changing to numeric type\n",
        "df['Type'].replace(\"Builder_Floor\", 0 , inplace = True)\n",
        "df['Type'].replace(\"Apartment\", 1 , inplace = True)\n",
        "# Changing to numeric type"
      ]
    },
    {
      "cell_type": "code",
      "execution_count": null,
      "metadata": {
        "id": "44mEM0cdkIEp",
        "colab": {
          "base_uri": "https://localhost:8080/"
        },
        "outputId": "25c65c3d-05a8-40e6-cbca-77d594a8f282"
      },
      "outputs": [
        {
          "output_type": "execute_result",
          "data": {
            "text/plain": [
              "Resale          781\n",
              "New_Property    478\n",
              "Name: Transaction, dtype: int64"
            ]
          },
          "metadata": {},
          "execution_count": 139
        }
      ],
      "source": [
        "house['Transaction'].value_counts()"
      ]
    },
    {
      "cell_type": "code",
      "execution_count": null,
      "metadata": {
        "id": "psvoVU_lkXjV"
      },
      "outputs": [],
      "source": [
        "# Changing to numeric type\n",
        "df['Transaction'].replace(\"Resale\", 0 , inplace = True)\n",
        "df['Transaction'].replace(\"New_Property\", 1 , inplace = True)\n",
        "# Changing to numeric type"
      ]
    },
    {
      "cell_type": "code",
      "execution_count": null,
      "metadata": {
        "id": "hzIMLyNfkoPb",
        "colab": {
          "base_uri": "https://localhost:8080/"
        },
        "outputId": "b2c0abca-9049-4395-d1ff-cc1bdb9a5cae"
      },
      "outputs": [
        {
          "output_type": "execute_result",
          "data": {
            "text/plain": [
              "Ready_to_move    1184\n",
              "Almost_ready       75\n",
              "Name: Status, dtype: int64"
            ]
          },
          "metadata": {},
          "execution_count": 141
        }
      ],
      "source": [
        "house['Status'].value_counts()"
      ]
    },
    {
      "cell_type": "code",
      "execution_count": null,
      "metadata": {
        "id": "JZ3Hgt9kkoal"
      },
      "outputs": [],
      "source": [
        "# Changing to numeric type\n",
        "df['Status'].replace(\"Ready_to_move\", 1 , inplace = True)\n",
        "df['Status'].replace(\"Almost_ready\", 0 , inplace = True)"
      ]
    },
    {
      "cell_type": "code",
      "execution_count": null,
      "metadata": {
        "id": "I-5dnaa0lPVz",
        "colab": {
          "base_uri": "https://localhost:8080/"
        },
        "outputId": "63e353b6-5d52-446c-99d9-64e10c17d4e2"
      },
      "outputs": [
        {
          "output_type": "execute_result",
          "data": {
            "text/plain": [
              "Semi-Furnished    708\n",
              "Unfurnished       363\n",
              "Furnished         183\n",
              "Name: Furnishing, dtype: int64"
            ]
          },
          "metadata": {},
          "execution_count": 143
        }
      ],
      "source": [
        "house['Furnishing'].value_counts()"
      ]
    },
    {
      "cell_type": "code",
      "execution_count": null,
      "metadata": {
        "id": "6EuwozLilYdf"
      },
      "outputs": [],
      "source": [
        "# Changing to numeric type\n",
        "df['Furnishing'].replace(\"Semi-Furnished\", 2 , inplace = True)\n",
        "df['Furnishing'].replace(\"Unfurnished\", 1 , inplace = True)\n",
        "df['Furnishing'].replace(\"Furnished\", 0 , inplace = True)"
      ]
    },
    {
      "cell_type": "code",
      "execution_count": null,
      "metadata": {
        "id": "mMp1o0n6l0uQ",
        "colab": {
          "base_uri": "https://localhost:8080/"
        },
        "outputId": "b8bc6a15-e9d4-46ad-c787-65a50265ffbb"
      },
      "outputs": [
        {
          "output_type": "execute_result",
          "data": {
            "text/plain": [
              "Price          1.000000\n",
              "Bathroom       0.728108\n",
              "Area           0.580836\n",
              "BHK            0.571523\n",
              "Per_Sqft       0.322859\n",
              "Transaction    0.218234\n",
              "Furnishing     0.073019\n",
              "Parking       -0.000448\n",
              "Type          -0.113003\n",
              "Status        -0.186129\n",
              "Name: Price, dtype: float64"
            ]
          },
          "metadata": {},
          "execution_count": 145
        }
      ],
      "source": [
        "# for corelation\n",
        "corr = df.corr()\n",
        "corr[\"Price\"].sort_values(ascending=False)"
      ]
    },
    {
      "cell_type": "markdown",
      "metadata": {
        "id": "0yzOF_YNnJIW"
      },
      "source": [
        "* After changing the categorical data into numberical for we can see changes because if the data is int or float, we can get only correlation. if data is categorical, we can not get correlation so that i have change categorical data into numberical\n",
        "\n",
        "We notice a few key points here,\n",
        "\n",
        "1- Price's strongest correlations are with: Bathroom, Area, BHK, per_sqft  \n",
        "\n",
        "* Also postive correlations with Transaction and Furnising\n",
        "* Negative correlation with Parking, Type and Status"
      ]
    },
    {
      "cell_type": "markdown",
      "metadata": {
        "id": "9V2Htp-96ei-"
      },
      "source": [
        "For data cleaning or to deal with imbalanced data we\n",
        "\n",
        "have more option\n",
        "* eliminating the coloumn\n",
        "* to take mean or median and fill in the column\n",
        "* reduced dataset by removing unnecessary observations\n",
        "\n",
        "Now, I am going to reduced dataset by removing insignificant observations to get rid of outliers"
      ]
    },
    {
      "cell_type": "code",
      "execution_count": null,
      "metadata": {
        "id": "-zzwSaYN8Sji",
        "colab": {
          "base_uri": "https://localhost:8080/"
        },
        "outputId": "71a184d0-b383-47c2-f866-4b0f1c351649"
      },
      "outputs": [
        {
          "output_type": "stream",
          "name": "stdout",
          "text": [
            "Previous dataset shape: (1259, 11)\n",
            "New dataset shape: (1197, 11)\n"
          ]
        }
      ],
      "source": [
        "# reduced dataset by removing insignificant observations to get rid of outliers\n",
        "df = house[(house['BHK']<7)&(house['Bathroom']<6)&(house['Parking']<9)&(house['Area']<10000)]\n",
        "print('Previous dataset shape:', house.shape)\n",
        "print('New dataset shape:',df.shape)"
      ]
    },
    {
      "cell_type": "markdown",
      "metadata": {
        "id": "d4dGydNf8oJR"
      },
      "source": [
        "Handling missing values"
      ]
    },
    {
      "cell_type": "code",
      "execution_count": null,
      "metadata": {
        "id": "MDUMSrI18pTk",
        "colab": {
          "base_uri": "https://localhost:8080/"
        },
        "outputId": "43aafab3-ad88-4bdd-fed3-0f830c18b52a"
      },
      "outputs": [
        {
          "output_type": "execute_result",
          "data": {
            "text/plain": [
              "Area             0\n",
              "BHK              0\n",
              "Bathroom         0\n",
              "Furnishing       1\n",
              "Locality         0\n",
              "Parking          0\n",
              "Price            0\n",
              "Status           0\n",
              "Transaction      0\n",
              "Type             1\n",
              "Per_Sqft       217\n",
              "dtype: int64"
            ]
          },
          "metadata": {},
          "execution_count": 147
        }
      ],
      "source": [
        "# searching for null value\n",
        "df.isnull().sum()"
      ]
    },
    {
      "cell_type": "code",
      "execution_count": null,
      "metadata": {
        "id": "RA0h06_28y1x",
        "colab": {
          "base_uri": "https://localhost:8080/"
        },
        "outputId": "a6f5058e-be6c-477b-ecaf-fc72948c75db"
      },
      "outputs": [
        {
          "output_type": "stream",
          "name": "stderr",
          "text": [
            "/usr/local/lib/python3.7/dist-packages/ipykernel_launcher.py:2: SettingWithCopyWarning: \n",
            "A value is trying to be set on a copy of a slice from a DataFrame.\n",
            "Try using .loc[row_indexer,col_indexer] = value instead\n",
            "\n",
            "See the caveats in the documentation: https://pandas.pydata.org/pandas-docs/stable/user_guide/indexing.html#returning-a-view-versus-a-copy\n",
            "  \n"
          ]
        }
      ],
      "source": [
        "# filling the value in Per_sqft\n",
        "df['Per_Sqft'] = df['Per_Sqft'].fillna(df['Price']/df['Area'])"
      ]
    },
    {
      "cell_type": "code",
      "execution_count": null,
      "metadata": {
        "id": "aXMWm4Ck9aPB"
      },
      "outputs": [],
      "source": [
        "df = df[~(df['Furnishing'].isnull())]"
      ]
    },
    {
      "cell_type": "code",
      "execution_count": null,
      "metadata": {
        "id": "dTC88_Fq9hze",
        "colab": {
          "base_uri": "https://localhost:8080/"
        },
        "outputId": "1b337794-4ef3-47fc-be0a-c02ef6c5d994"
      },
      "outputs": [
        {
          "output_type": "execute_result",
          "data": {
            "text/plain": [
              "Area           0\n",
              "BHK            0\n",
              "Bathroom       0\n",
              "Furnishing     0\n",
              "Locality       0\n",
              "Parking        0\n",
              "Price          0\n",
              "Status         0\n",
              "Transaction    0\n",
              "Type           0\n",
              "Per_Sqft       0\n",
              "dtype: int64"
            ]
          },
          "metadata": {},
          "execution_count": 150
        }
      ],
      "source": [
        "df.isnull().sum()"
      ]
    },
    {
      "cell_type": "markdown",
      "metadata": {
        "id": "vhTZtTVw-AaQ"
      },
      "source": [
        "**Now there is no missing value in the dataset**."
      ]
    },
    {
      "cell_type": "markdown",
      "metadata": {
        "id": "40wDOv4k-O9i"
      },
      "source": [
        "**Data Pre-processing**"
      ]
    },
    {
      "cell_type": "code",
      "execution_count": null,
      "metadata": {
        "id": "-SQb1qB8-RS-",
        "colab": {
          "base_uri": "https://localhost:8080/"
        },
        "outputId": "8c1a1626-978c-4752-e0fd-4115bfce8fb1"
      },
      "outputs": [
        {
          "output_type": "execute_result",
          "data": {
            "text/plain": [
              "(1196, 10)"
            ]
          },
          "metadata": {},
          "execution_count": 151
        }
      ],
      "source": [
        "# dropping locality variable\n",
        "df = df.drop('Locality', axis=1)\n",
        "\n",
        "# checking shape of final dataset\n",
        "df.shape"
      ]
    },
    {
      "cell_type": "code",
      "execution_count": null,
      "metadata": {
        "id": "cCnoFYGj-g13",
        "colab": {
          "base_uri": "https://localhost:8080/"
        },
        "outputId": "d52ac643-da1c-4bda-baa9-41a28f15f9be"
      },
      "outputs": [
        {
          "output_type": "stream",
          "name": "stdout",
          "text": [
            "<class 'pandas.core.frame.DataFrame'>\n",
            "Int64Index: 1196 entries, 0 to 1257\n",
            "Data columns (total 10 columns):\n",
            " #   Column       Non-Null Count  Dtype  \n",
            "---  ------       --------------  -----  \n",
            " 0   Area         1196 non-null   float64\n",
            " 1   BHK          1196 non-null   int64  \n",
            " 2   Bathroom     1196 non-null   float64\n",
            " 3   Furnishing   1196 non-null   object \n",
            " 4   Parking      1196 non-null   float64\n",
            " 5   Price        1196 non-null   int64  \n",
            " 6   Status       1196 non-null   object \n",
            " 7   Transaction  1196 non-null   object \n",
            " 8   Type         1196 non-null   object \n",
            " 9   Per_Sqft     1196 non-null   float64\n",
            "dtypes: float64(4), int64(2), object(4)\n",
            "memory usage: 102.8+ KB\n"
          ]
        }
      ],
      "source": [
        "df.info()"
      ]
    },
    {
      "cell_type": "code",
      "execution_count": null,
      "metadata": {
        "id": "eENTeP1z-siF"
      },
      "outputs": [],
      "source": [
        "cat_cols = ['BHK','Bathroom','Furnishing','Parking','Status','Transaction','Type']\n",
        "num_cols = ['Area','Price','Per_Sqft']"
      ]
    },
    {
      "cell_type": "code",
      "execution_count": null,
      "metadata": {
        "id": "8FksGkBT-u0S"
      },
      "outputs": [],
      "source": [
        "# convert data types of categorical variable as string\n",
        "for cols in cat_cols:\n",
        "    df[cols] = df[cols].astype(str)"
      ]
    },
    {
      "cell_type": "code",
      "execution_count": null,
      "metadata": {
        "colab": {
          "base_uri": "https://localhost:8080/",
          "height": 287
        },
        "id": "Xvmp2MBX-4wF",
        "outputId": "51372b72-6421-4165-a607-f07bc3fd857b"
      },
      "outputs": [
        {
          "output_type": "execute_result",
          "data": {
            "text/html": [
              "\n",
              "  <div id=\"df-b90fdb38-bc21-408c-8047-f862b4a2a580\">\n",
              "    <div class=\"colab-df-container\">\n",
              "      <div>\n",
              "<style scoped>\n",
              "    .dataframe tbody tr th:only-of-type {\n",
              "        vertical-align: middle;\n",
              "    }\n",
              "\n",
              "    .dataframe tbody tr th {\n",
              "        vertical-align: top;\n",
              "    }\n",
              "\n",
              "    .dataframe thead th {\n",
              "        text-align: right;\n",
              "    }\n",
              "</style>\n",
              "<table border=\"1\" class=\"dataframe\">\n",
              "  <thead>\n",
              "    <tr style=\"text-align: right;\">\n",
              "      <th></th>\n",
              "      <th>Area</th>\n",
              "      <th>Price</th>\n",
              "      <th>Per_Sqft</th>\n",
              "      <th>BHK_2</th>\n",
              "      <th>BHK_3</th>\n",
              "      <th>BHK_4</th>\n",
              "      <th>BHK_5</th>\n",
              "      <th>BHK_6</th>\n",
              "      <th>Bathroom_2.0</th>\n",
              "      <th>Bathroom_3.0</th>\n",
              "      <th>Bathroom_4.0</th>\n",
              "      <th>Bathroom_5.0</th>\n",
              "      <th>Furnishing_Semi-Furnished</th>\n",
              "      <th>Furnishing_Unfurnished</th>\n",
              "      <th>Parking_2.0</th>\n",
              "      <th>Parking_3.0</th>\n",
              "      <th>Parking_4.0</th>\n",
              "      <th>Parking_5.0</th>\n",
              "      <th>Status_Ready_to_move</th>\n",
              "      <th>Transaction_Resale</th>\n",
              "      <th>Type_Builder_Floor</th>\n",
              "    </tr>\n",
              "  </thead>\n",
              "  <tbody>\n",
              "    <tr>\n",
              "      <th>0</th>\n",
              "      <td>800.0</td>\n",
              "      <td>6500000</td>\n",
              "      <td>8125.0</td>\n",
              "      <td>0</td>\n",
              "      <td>1</td>\n",
              "      <td>0</td>\n",
              "      <td>0</td>\n",
              "      <td>0</td>\n",
              "      <td>1</td>\n",
              "      <td>0</td>\n",
              "      <td>0</td>\n",
              "      <td>0</td>\n",
              "      <td>1</td>\n",
              "      <td>0</td>\n",
              "      <td>0</td>\n",
              "      <td>0</td>\n",
              "      <td>0</td>\n",
              "      <td>0</td>\n",
              "      <td>1</td>\n",
              "      <td>0</td>\n",
              "      <td>1</td>\n",
              "    </tr>\n",
              "    <tr>\n",
              "      <th>1</th>\n",
              "      <td>750.0</td>\n",
              "      <td>5000000</td>\n",
              "      <td>6667.0</td>\n",
              "      <td>1</td>\n",
              "      <td>0</td>\n",
              "      <td>0</td>\n",
              "      <td>0</td>\n",
              "      <td>0</td>\n",
              "      <td>1</td>\n",
              "      <td>0</td>\n",
              "      <td>0</td>\n",
              "      <td>0</td>\n",
              "      <td>1</td>\n",
              "      <td>0</td>\n",
              "      <td>0</td>\n",
              "      <td>0</td>\n",
              "      <td>0</td>\n",
              "      <td>0</td>\n",
              "      <td>1</td>\n",
              "      <td>0</td>\n",
              "      <td>0</td>\n",
              "    </tr>\n",
              "    <tr>\n",
              "      <th>2</th>\n",
              "      <td>950.0</td>\n",
              "      <td>15500000</td>\n",
              "      <td>6667.0</td>\n",
              "      <td>1</td>\n",
              "      <td>0</td>\n",
              "      <td>0</td>\n",
              "      <td>0</td>\n",
              "      <td>0</td>\n",
              "      <td>1</td>\n",
              "      <td>0</td>\n",
              "      <td>0</td>\n",
              "      <td>0</td>\n",
              "      <td>0</td>\n",
              "      <td>0</td>\n",
              "      <td>0</td>\n",
              "      <td>0</td>\n",
              "      <td>0</td>\n",
              "      <td>0</td>\n",
              "      <td>1</td>\n",
              "      <td>1</td>\n",
              "      <td>0</td>\n",
              "    </tr>\n",
              "    <tr>\n",
              "      <th>3</th>\n",
              "      <td>600.0</td>\n",
              "      <td>4200000</td>\n",
              "      <td>6667.0</td>\n",
              "      <td>1</td>\n",
              "      <td>0</td>\n",
              "      <td>0</td>\n",
              "      <td>0</td>\n",
              "      <td>0</td>\n",
              "      <td>1</td>\n",
              "      <td>0</td>\n",
              "      <td>0</td>\n",
              "      <td>0</td>\n",
              "      <td>1</td>\n",
              "      <td>0</td>\n",
              "      <td>0</td>\n",
              "      <td>0</td>\n",
              "      <td>0</td>\n",
              "      <td>0</td>\n",
              "      <td>1</td>\n",
              "      <td>1</td>\n",
              "      <td>1</td>\n",
              "    </tr>\n",
              "    <tr>\n",
              "      <th>4</th>\n",
              "      <td>650.0</td>\n",
              "      <td>6200000</td>\n",
              "      <td>6667.0</td>\n",
              "      <td>1</td>\n",
              "      <td>0</td>\n",
              "      <td>0</td>\n",
              "      <td>0</td>\n",
              "      <td>0</td>\n",
              "      <td>1</td>\n",
              "      <td>0</td>\n",
              "      <td>0</td>\n",
              "      <td>0</td>\n",
              "      <td>1</td>\n",
              "      <td>0</td>\n",
              "      <td>0</td>\n",
              "      <td>0</td>\n",
              "      <td>0</td>\n",
              "      <td>0</td>\n",
              "      <td>1</td>\n",
              "      <td>0</td>\n",
              "      <td>1</td>\n",
              "    </tr>\n",
              "  </tbody>\n",
              "</table>\n",
              "</div>\n",
              "      <button class=\"colab-df-convert\" onclick=\"convertToInteractive('df-b90fdb38-bc21-408c-8047-f862b4a2a580')\"\n",
              "              title=\"Convert this dataframe to an interactive table.\"\n",
              "              style=\"display:none;\">\n",
              "        \n",
              "  <svg xmlns=\"http://www.w3.org/2000/svg\" height=\"24px\"viewBox=\"0 0 24 24\"\n",
              "       width=\"24px\">\n",
              "    <path d=\"M0 0h24v24H0V0z\" fill=\"none\"/>\n",
              "    <path d=\"M18.56 5.44l.94 2.06.94-2.06 2.06-.94-2.06-.94-.94-2.06-.94 2.06-2.06.94zm-11 1L8.5 8.5l.94-2.06 2.06-.94-2.06-.94L8.5 2.5l-.94 2.06-2.06.94zm10 10l.94 2.06.94-2.06 2.06-.94-2.06-.94-.94-2.06-.94 2.06-2.06.94z\"/><path d=\"M17.41 7.96l-1.37-1.37c-.4-.4-.92-.59-1.43-.59-.52 0-1.04.2-1.43.59L10.3 9.45l-7.72 7.72c-.78.78-.78 2.05 0 2.83L4 21.41c.39.39.9.59 1.41.59.51 0 1.02-.2 1.41-.59l7.78-7.78 2.81-2.81c.8-.78.8-2.07 0-2.86zM5.41 20L4 18.59l7.72-7.72 1.47 1.35L5.41 20z\"/>\n",
              "  </svg>\n",
              "      </button>\n",
              "      \n",
              "  <style>\n",
              "    .colab-df-container {\n",
              "      display:flex;\n",
              "      flex-wrap:wrap;\n",
              "      gap: 12px;\n",
              "    }\n",
              "\n",
              "    .colab-df-convert {\n",
              "      background-color: #E8F0FE;\n",
              "      border: none;\n",
              "      border-radius: 50%;\n",
              "      cursor: pointer;\n",
              "      display: none;\n",
              "      fill: #1967D2;\n",
              "      height: 32px;\n",
              "      padding: 0 0 0 0;\n",
              "      width: 32px;\n",
              "    }\n",
              "\n",
              "    .colab-df-convert:hover {\n",
              "      background-color: #E2EBFA;\n",
              "      box-shadow: 0px 1px 2px rgba(60, 64, 67, 0.3), 0px 1px 3px 1px rgba(60, 64, 67, 0.15);\n",
              "      fill: #174EA6;\n",
              "    }\n",
              "\n",
              "    [theme=dark] .colab-df-convert {\n",
              "      background-color: #3B4455;\n",
              "      fill: #D2E3FC;\n",
              "    }\n",
              "\n",
              "    [theme=dark] .colab-df-convert:hover {\n",
              "      background-color: #434B5C;\n",
              "      box-shadow: 0px 1px 3px 1px rgba(0, 0, 0, 0.15);\n",
              "      filter: drop-shadow(0px 1px 2px rgba(0, 0, 0, 0.3));\n",
              "      fill: #FFFFFF;\n",
              "    }\n",
              "  </style>\n",
              "\n",
              "      <script>\n",
              "        const buttonEl =\n",
              "          document.querySelector('#df-b90fdb38-bc21-408c-8047-f862b4a2a580 button.colab-df-convert');\n",
              "        buttonEl.style.display =\n",
              "          google.colab.kernel.accessAllowed ? 'block' : 'none';\n",
              "\n",
              "        async function convertToInteractive(key) {\n",
              "          const element = document.querySelector('#df-b90fdb38-bc21-408c-8047-f862b4a2a580');\n",
              "          const dataTable =\n",
              "            await google.colab.kernel.invokeFunction('convertToInteractive',\n",
              "                                                     [key], {});\n",
              "          if (!dataTable) return;\n",
              "\n",
              "          const docLinkHtml = 'Like what you see? Visit the ' +\n",
              "            '<a target=\"_blank\" href=https://colab.research.google.com/notebooks/data_table.ipynb>data table notebook</a>'\n",
              "            + ' to learn more about interactive tables.';\n",
              "          element.innerHTML = '';\n",
              "          dataTable['output_type'] = 'display_data';\n",
              "          await google.colab.output.renderOutput(dataTable, element);\n",
              "          const docLink = document.createElement('div');\n",
              "          docLink.innerHTML = docLinkHtml;\n",
              "          element.appendChild(docLink);\n",
              "        }\n",
              "      </script>\n",
              "    </div>\n",
              "  </div>\n",
              "  "
            ],
            "text/plain": [
              "    Area     Price  ...  Transaction_Resale  Type_Builder_Floor\n",
              "0  800.0   6500000  ...                   0                   1\n",
              "1  750.0   5000000  ...                   0                   0\n",
              "2  950.0  15500000  ...                   1                   0\n",
              "3  600.0   4200000  ...                   1                   1\n",
              "4  650.0   6200000  ...                   0                   1\n",
              "\n",
              "[5 rows x 21 columns]"
            ]
          },
          "metadata": {},
          "execution_count": 155
        }
      ],
      "source": [
        "# creating dummy variables\n",
        "df = pd.get_dummies(data=df, drop_first=True)\n",
        "df.head()"
      ]
    },
    {
      "cell_type": "markdown",
      "metadata": {
        "id": "eeNJMYqA_Qqy"
      },
      "source": [
        "**Model Building**"
      ]
    },
    {
      "cell_type": "code",
      "execution_count": null,
      "metadata": {
        "colab": {
          "base_uri": "https://localhost:8080/",
          "height": 362
        },
        "id": "kLJl-yBn_S0L",
        "outputId": "6c681767-4d06-4871-ef1a-17f40d03e629"
      },
      "outputs": [
        {
          "output_type": "stream",
          "name": "stderr",
          "text": [
            "/usr/local/lib/python3.7/dist-packages/seaborn/distributions.py:2619: FutureWarning: `distplot` is a deprecated function and will be removed in a future version. Please adapt your code to use either `displot` (a figure-level function with similar flexibility) or `histplot` (an axes-level function for histograms).\n",
            "  warnings.warn(msg, FutureWarning)\n"
          ]
        },
        {
          "output_type": "execute_result",
          "data": {
            "text/plain": [
              "<matplotlib.axes._subplots.AxesSubplot at 0x7f62ea97eb10>"
            ]
          },
          "metadata": {},
          "execution_count": 156
        },
        {
          "output_type": "display_data",
          "data": {
            "image/png": "[encoded data removed]",
            "text/plain": [
              "<Figure size 432x288 with 1 Axes>"
            ]
          },
          "metadata": {
            "needs_background": "light"
          }
        }
      ],
      "source": [
        "# Seaborn Distplot represents the overall distribution of price.\n",
        "sns.distplot(df['Price'])"
      ]
    },
    {
      "cell_type": "markdown",
      "metadata": {
        "id": "-BFjhJ_FtxhN"
      },
      "source": [
        "Represents the overall distribution of price"
      ]
    },
    {
      "cell_type": "markdown",
      "metadata": {
        "id": "LsjB2eajF_Vf"
      },
      "source": [
        "**Dist plot**\n",
        "\n",
        "Dist plot help us to check the distribution of the column feacture"
      ]
    },
    {
      "cell_type": "code",
      "execution_count": null,
      "metadata": {
        "colab": {
          "base_uri": "https://localhost:8080/",
          "height": 334
        },
        "id": "n8cjIexIBv_R",
        "outputId": "f8373f43-b049-43da-a921-9f7040025cde"
      },
      "outputs": [
        {
          "output_type": "stream",
          "name": "stderr",
          "text": [
            "/usr/local/lib/python3.7/dist-packages/seaborn/distributions.py:2619: FutureWarning: `distplot` is a deprecated function and will be removed in a future version. Please adapt your code to use either `displot` (a figure-level function with similar flexibility) or `histplot` (an axes-level function for histograms).\n",
            "  warnings.warn(msg, FutureWarning)\n"
          ]
        },
        {
          "output_type": "display_data",
          "data": {
            "image/png": "[encoded data removed]",
            "text/plain": [
              "<Figure size 432x288 with 1 Axes>"
            ]
          },
          "metadata": {
            "needs_background": "light"
          }
        }
      ],
      "source": [
        "# converting target variable into log\n",
        "df['Price'] = np.log(df['Price'])\n",
        "\n",
        "# plotting target variable dist plot post log transformation\n",
        "sns.distplot(df['Price'])\n",
        "plt.show()"
      ]
    },
    {
      "cell_type": "markdown",
      "metadata": {
        "id": "U7tetRe-EgZ6"
      },
      "source": [
        "* price id incline upto 17 and touch the density upto 0.4 then started decline"
      ]
    },
    {
      "cell_type": "markdown",
      "metadata": {
        "id": "Z3bBjn5RJhcQ"
      },
      "source": [
        "# Test and Train Data\n"
      ]
    },
    {
      "cell_type": "code",
      "execution_count": null,
      "metadata": {
        "id": "1xsKRFt-JnX4"
      },
      "outputs": [],
      "source": [
        "# separating dataset into X and y\n",
        "X = df.drop('Price', axis=1)\n",
        "y = df['Price']"
      ]
    },
    {
      "cell_type": "code",
      "execution_count": null,
      "metadata": {
        "id": "XXfzezaIJrOl"
      },
      "outputs": [],
      "source": [
        "# dividing data into train and test\n",
        "from sklearn.model_selection import train_test_split\n",
        "X_train, X_test, y_train, y_test = train_test_split(X, y, test_size=0.33, random_state=42)"
      ]
    },
    {
      "cell_type": "code",
      "execution_count": null,
      "metadata": {
        "colab": {
          "base_uri": "https://localhost:8080/"
        },
        "id": "7T8gqTXbm9Q6",
        "outputId": "f9abc4f8-6780-4457-f068-a35eb3b16fa0"
      },
      "outputs": [
        {
          "output_type": "execute_result",
          "data": {
            "text/plain": [
              "0    15.687313\n",
              "1    15.424948\n",
              "2    16.556351\n",
              "Name: Price, dtype: float64"
            ]
          },
          "metadata": {},
          "execution_count": 160
        }
      ],
      "source": [
        "y.head(3)"
      ]
    },
    {
      "cell_type": "markdown",
      "metadata": {
        "id": "CGs-6NowMPf8"
      },
      "source": [
        "**Feature Scaling**"
      ]
    },
    {
      "cell_type": "markdown",
      "metadata": {
        "id": "-_6AxkmNMUNx"
      },
      "source": [
        "Primarily, two types of feature scaling methods:\n",
        "\n",
        "Min-max scaling (Normalization) (value - min)/(max - min) Sklearn provides a class called MinMaxScaler for this\n",
        "\n",
        "Standardization (value - mean)/std Sklearn provides a class called StandardScaler for this\n",
        "\n",
        "here, i am using Min-max scaling (Normalization)"
      ]
    },
    {
      "cell_type": "code",
      "execution_count": null,
      "metadata": {
        "colab": {
          "base_uri": "https://localhost:8080/"
        },
        "id": "_mP4fBsDJ77Z",
        "outputId": "f70d015e-460d-4281-cd64-405640190392"
      },
      "outputs": [
        {
          "output_type": "stream",
          "name": "stdout",
          "text": [
            "Shape of X_train: (801, 20)\n",
            "Shape of X_test: (395, 20)\n"
          ]
        }
      ],
      "source": [
        "# scaling data\n",
        "from sklearn.preprocessing import MinMaxScaler\n",
        "scale = MinMaxScaler()\n",
        "X_train = scale.fit_transform(X_train)\n",
        "X_test = scale.transform(X_test)\n",
        "\n",
        "print('Shape of X_train:', X_train.shape)\n",
        "print('Shape of X_test:',X_test.shape)"
      ]
    },
    {
      "cell_type": "markdown",
      "metadata": {
        "id": "LilkjSYpLLl9"
      },
      "source": [
        "Here I take 801 for train\n",
        "\n",
        "I  take 395 for test data"
      ]
    },
    {
      "cell_type": "markdown",
      "metadata": {
        "id": "WRux7koEKJ1N"
      },
      "source": [
        "#Linear Regression"
      ]
    },
    {
      "cell_type": "markdown",
      "metadata": {
        "id": "6AtnOV74uM1V"
      },
      "source": [
        "* Linear regression models are commonly used to fit linear regression models using the least-squares approach. This is achieved by minimizing the sum of squared residuals and determining the values of the parameters described in a linear equation of the 'best-fit line.' Here, I want to predict the price of a house based on the feature variable.\n",
        "\n",
        "* The equation for the best-fit line is y=ax+b, where y is the output (dependent) variable, x is the input (independent) variable, and a and b are the slope and intercept parameters.\n"
      ]
    },
    {
      "cell_type": "code",
      "execution_count": null,
      "metadata": {
        "id": "siiqCmR7KNPg"
      },
      "outputs": [],
      "source": [
        "# importing linear regression package\n",
        "from sklearn.linear_model import LinearRegression\n",
        "lr = LinearRegression()\n",
        "\n",
        "# fitting train data\n",
        "lr.fit(X_train, y_train)\n",
        "\n",
        "#predicting train data\n",
        "pred_train_lr = lr.predict(X_train)\n",
        "\n",
        "\n",
        "# predicting test data\n",
        "pred_test_lr = lr.predict(X_test)\n"
      ]
    },
    {
      "cell_type": "code",
      "execution_count": null,
      "metadata": {
        "id": "mjXH47Im421E"
      },
      "outputs": [],
      "source": [
        "# y_train.mean()\n",
        "#pred_train_lr.mean()"
      ]
    },
    {
      "cell_type": "markdown",
      "metadata": {
        "id": "L-1PNGw5NU-1"
      },
      "source": [
        "**Seleting a performance measure**\n",
        "\n",
        "* A typical performance for regression problem is the Root mean square\n",
        "Error(RMSE)\n",
        "\n",
        "* RMSE is gennerally the prefered performance measure for regression tasks,\n",
        "so i choose it for this particular problem"
      ]
    },
    {
      "cell_type": "markdown",
      "metadata": {
        "id": "Pz_Gf90A7pd9"
      },
      "source": [
        "* R - squared is defined as (1 - u/v), where u is the residual sum of squares ((y true - y pred) 2).sum() and v is the total sum of squares ((y true - y true.mean()) 2).sum(). The best possible score is 1.0 and it can be negative (because the model can be arbitrarily worse). A constant model that always predicts the expected value of y, disregarding the input features, would get a R^2 score of 0.0.\n"
      ]
    },
    {
      "cell_type": "code",
      "execution_count": null,
      "metadata": {
        "colab": {
          "base_uri": "https://localhost:8080/"
        },
        "id": "gSJQi95XKooN",
        "outputId": "b4a5052b-b88f-40ab-b3d0-60239a183f5d"
      },
      "outputs": [
        {
          "output_type": "stream",
          "name": "stdout",
          "text": [
            "Train data results\n",
            "RMSE: 0.4937827941440134\n",
            "R-squared: 0.6913718589193119\n",
            "\n",
            "\n",
            "Test data results\n",
            "RMSE: 0.5486398648809517\n",
            "R-squared: 0.6794431209155046\n"
          ]
        }
      ],
      "source": [
        "# importing evaluation metrices\n",
        "from sklearn.metrics import r2_score, mean_squared_error\n",
        "print('Train data results')\n",
        "print('RMSE:', np.sqrt(mean_squared_error(pred_train_lr, y_train)))\n",
        "print('R-squared:',r2_score(pred_train_lr,y_train))\n",
        "print('\\n')\n",
        "print('Test data results')\n",
        "print('RMSE:', np.sqrt(mean_squared_error(pred_test_lr, y_test)))\n",
        "print('R-squared:',r2_score(pred_test_lr,y_test))"
      ]
    },
    {
      "cell_type": "code",
      "execution_count": null,
      "metadata": {
        "id": "5L_bOXkJCM4P"
      },
      "outputs": [],
      "source": [
        "#pred_test_lr = lr.predict(X_test)\n",
        "#some_labels = y.iloc[:5]\n",
        "#some_labels\n",
        "\n"
      ]
    },
    {
      "cell_type": "markdown",
      "metadata": {
        "id": "Bm2TpLL-Og63"
      },
      "source": [
        "* In Train data we get good score that is 0.49\n",
        "\n",
        "* In Test data we get 0.67\n",
        "\n",
        "  we get good score here but we are going to test with other model also"
      ]
    },
    {
      "cell_type": "code",
      "execution_count": null,
      "metadata": {
        "colab": {
          "base_uri": "https://localhost:8080/",
          "height": 206
        },
        "id": "YvCqfHpkx57X",
        "outputId": "7602a36f-83c6-4772-cbbc-23995e1cc9c9"
      },
      "outputs": [
        {
          "output_type": "execute_result",
          "data": {
            "text/html": [
              "\n",
              "  <div id=\"df-39c94910-6f40-4de3-9718-2e7f257c1986\">\n",
              "    <div class=\"colab-df-container\">\n",
              "      <div>\n",
              "<style scoped>\n",
              "    .dataframe tbody tr th:only-of-type {\n",
              "        vertical-align: middle;\n",
              "    }\n",
              "\n",
              "    .dataframe tbody tr th {\n",
              "        vertical-align: top;\n",
              "    }\n",
              "\n",
              "    .dataframe thead th {\n",
              "        text-align: right;\n",
              "    }\n",
              "</style>\n",
              "<table border=\"1\" class=\"dataframe\">\n",
              "  <thead>\n",
              "    <tr style=\"text-align: right;\">\n",
              "      <th></th>\n",
              "      <th>Actual</th>\n",
              "      <th>Predicted</th>\n",
              "    </tr>\n",
              "  </thead>\n",
              "  <tbody>\n",
              "    <tr>\n",
              "      <th>431</th>\n",
              "      <td>16.157316</td>\n",
              "      <td>16.276438</td>\n",
              "    </tr>\n",
              "    <tr>\n",
              "      <th>570</th>\n",
              "      <td>17.296751</td>\n",
              "      <td>16.585013</td>\n",
              "    </tr>\n",
              "    <tr>\n",
              "      <th>548</th>\n",
              "      <td>16.993564</td>\n",
              "      <td>16.104248</td>\n",
              "    </tr>\n",
              "    <tr>\n",
              "      <th>752</th>\n",
              "      <td>14.669926</td>\n",
              "      <td>14.575917</td>\n",
              "    </tr>\n",
              "    <tr>\n",
              "      <th>756</th>\n",
              "      <td>14.220976</td>\n",
              "      <td>14.242107</td>\n",
              "    </tr>\n",
              "  </tbody>\n",
              "</table>\n",
              "</div>\n",
              "      <button class=\"colab-df-convert\" onclick=\"convertToInteractive('df-39c94910-6f40-4de3-9718-2e7f257c1986')\"\n",
              "              title=\"Convert this dataframe to an interactive table.\"\n",
              "              style=\"display:none;\">\n",
              "        \n",
              "  <svg xmlns=\"http://www.w3.org/2000/svg\" height=\"24px\"viewBox=\"0 0 24 24\"\n",
              "       width=\"24px\">\n",
              "    <path d=\"M0 0h24v24H0V0z\" fill=\"none\"/>\n",
              "    <path d=\"M18.56 5.44l.94 2.06.94-2.06 2.06-.94-2.06-.94-.94-2.06-.94 2.06-2.06.94zm-11 1L8.5 8.5l.94-2.06 2.06-.94-2.06-.94L8.5 2.5l-.94 2.06-2.06.94zm10 10l.94 2.06.94-2.06 2.06-.94-2.06-.94-.94-2.06-.94 2.06-2.06.94z\"/><path d=\"M17.41 7.96l-1.37-1.37c-.4-.4-.92-.59-1.43-.59-.52 0-1.04.2-1.43.59L10.3 9.45l-7.72 7.72c-.78.78-.78 2.05 0 2.83L4 21.41c.39.39.9.59 1.41.59.51 0 1.02-.2 1.41-.59l7.78-7.78 2.81-2.81c.8-.78.8-2.07 0-2.86zM5.41 20L4 18.59l7.72-7.72 1.47 1.35L5.41 20z\"/>\n",
              "  </svg>\n",
              "      </button>\n",
              "      \n",
              "  <style>\n",
              "    .colab-df-container {\n",
              "      display:flex;\n",
              "      flex-wrap:wrap;\n",
              "      gap: 12px;\n",
              "    }\n",
              "\n",
              "    .colab-df-convert {\n",
              "      background-color: #E8F0FE;\n",
              "      border: none;\n",
              "      border-radius: 50%;\n",
              "      cursor: pointer;\n",
              "      display: none;\n",
              "      fill: #1967D2;\n",
              "      height: 32px;\n",
              "      padding: 0 0 0 0;\n",
              "      width: 32px;\n",
              "    }\n",
              "\n",
              "    .colab-df-convert:hover {\n",
              "      background-color: #E2EBFA;\n",
              "      box-shadow: 0px 1px 2px rgba(60, 64, 67, 0.3), 0px 1px 3px 1px rgba(60, 64, 67, 0.15);\n",
              "      fill: #174EA6;\n",
              "    }\n",
              "\n",
              "    [theme=dark] .colab-df-convert {\n",
              "      background-color: #3B4455;\n",
              "      fill: #D2E3FC;\n",
              "    }\n",
              "\n",
              "    [theme=dark] .colab-df-convert:hover {\n",
              "      background-color: #434B5C;\n",
              "      box-shadow: 0px 1px 3px 1px rgba(0, 0, 0, 0.15);\n",
              "      filter: drop-shadow(0px 1px 2px rgba(0, 0, 0, 0.3));\n",
              "      fill: #FFFFFF;\n",
              "    }\n",
              "  </style>\n",
              "\n",
              "      <script>\n",
              "        const buttonEl =\n",
              "          document.querySelector('#df-39c94910-6f40-4de3-9718-2e7f257c1986 button.colab-df-convert');\n",
              "        buttonEl.style.display =\n",
              "          google.colab.kernel.accessAllowed ? 'block' : 'none';\n",
              "\n",
              "        async function convertToInteractive(key) {\n",
              "          const element = document.querySelector('#df-39c94910-6f40-4de3-9718-2e7f257c1986');\n",
              "          const dataTable =\n",
              "            await google.colab.kernel.invokeFunction('convertToInteractive',\n",
              "                                                     [key], {});\n",
              "          if (!dataTable) return;\n",
              "\n",
              "          const docLinkHtml = 'Like what you see? Visit the ' +\n",
              "            '<a target=\"_blank\" href=https://colab.research.google.com/notebooks/data_table.ipynb>data table notebook</a>'\n",
              "            + ' to learn more about interactive tables.';\n",
              "          element.innerHTML = '';\n",
              "          dataTable['output_type'] = 'display_data';\n",
              "          await google.colab.output.renderOutput(dataTable, element);\n",
              "          const docLink = document.createElement('div');\n",
              "          docLink.innerHTML = docLinkHtml;\n",
              "          element.appendChild(docLink);\n",
              "        }\n",
              "      </script>\n",
              "    </div>\n",
              "  </div>\n",
              "  "
            ],
            "text/plain": [
              "        Actual  Predicted\n",
              "431  16.157316  16.276438\n",
              "570  17.296751  16.585013\n",
              "548  16.993564  16.104248\n",
              "752  14.669926  14.575917\n",
              "756  14.220976  14.242107"
            ]
          },
          "metadata": {},
          "execution_count": 166
        }
      ],
      "source": [
        "# evulating the actal and predicted value\n",
        "df=pd.DataFrame({'Actual':y_train,'Predicted': pred_train_lr })\n",
        "df.head()"
      ]
    },
    {
      "cell_type": "code",
      "execution_count": null,
      "metadata": {
        "colab": {
          "base_uri": "https://localhost:8080/",
          "height": 297
        },
        "id": "Q3bCcaTKyFcI",
        "outputId": "1acf0133-c8fd-46bc-e751-6c73b7c91527"
      },
      "outputs": [
        {
          "output_type": "execute_result",
          "data": {
            "text/plain": [
              "<matplotlib.axes._subplots.AxesSubplot at 0x7f62e0d18ad0>"
            ]
          },
          "metadata": {},
          "execution_count": 167
        },
        {
          "output_type": "display_data",
          "data": {
            "image/png": "[encoded data removed]",
            "text/plain": [
              "<Figure size 432x288 with 1 Axes>"
            ]
          },
          "metadata": {
            "needs_background": "light"
          }
        }
      ],
      "source": [
        "sns.regplot(x='Actual',y='Predicted',data=df)"
      ]
    },
    {
      "cell_type": "markdown",
      "metadata": {
        "id": "2VQCZVXuzlMc"
      },
      "source": [
        "we predicted well so many predicted value is around the actual value"
      ]
    },
    {
      "cell_type": "code",
      "execution_count": null,
      "metadata": {
        "colab": {
          "base_uri": "https://localhost:8080/",
          "height": 325
        },
        "id": "giF6FVIWO-fW",
        "outputId": "c90b94b5-c0c0-4e98-ce59-04ddffbf538a"
      },
      "outputs": [
        {
          "output_type": "display_data",
          "data": {
            "image/png": "[encoded data removed]",
            "text/plain": [
              "<Figure size 1080x720 with 2 Axes>"
            ]
          },
          "metadata": {
            "needs_background": "light"
          }
        }
      ],
      "source": [
        "# plotting result for visual\n",
        "plt.figure(figsize=(15,10))\n",
        "plt.subplot(2,2,1)\n",
        "plt.title('Train data prediction')\n",
        "sns.scatterplot(x=y_train,y=pred_train_lr)\n",
        "plt.subplot(2,2,2)\n",
        "plt.title('Test data prediction')\n",
        "sns.scatterplot(x=y_test,y=pred_test_lr)\n",
        "plt.show()"
      ]
    },
    {
      "cell_type": "markdown",
      "metadata": {
        "id": "Yvu8ns2YPL1m"
      },
      "source": [
        "Result seems to be good lets see other model predicts"
      ]
    },
    {
      "cell_type": "markdown",
      "metadata": {
        "id": "yba2Gx1fPc7Y"
      },
      "source": [
        "# Random Forest Regressor"
      ]
    },
    {
      "cell_type": "markdown",
      "metadata": {
        "id": "2TBFC5yjw6qH"
      },
      "source": [
        "* Random forest algorithm operates by creating a large number of decision  trees at training time and outputting the mean/mode of prediction of the individual trees. Random forest is based on the wisdom of crowds, which states that a large  number of uncorrelated models working together as a committee will  perform any of the individual constituent models.\n",
        "\n",
        "* The reason for this is that the trees help each other by protecting each other from their individual errors. There is no interaction between the individual trees in a random forest. A random forest is an estimator technique that combines the results of several decision trees to produce the best possible result.\n",
        "\n",
        "* Random Forest outperforms other algorithms in terms of accuracy."
      ]
    },
    {
      "cell_type": "code",
      "execution_count": null,
      "metadata": {
        "id": "TYIFDmSEPf9F"
      },
      "outputs": [],
      "source": [
        "# importing random forest regressor package\n",
        "from sklearn.ensemble import RandomForestRegressor\n",
        "rf = RandomForestRegressor()\n",
        "\n",
        "# fitting training data\n",
        "rf.fit(X_train,y_train)\n",
        "\n",
        "# predicting train data\n",
        "pred_train_rf = rf.predict(X_train)\n",
        "\n",
        "#predicting test data\n",
        "pred_test_rf = rf.predict(X_test)\n"
      ]
    },
    {
      "cell_type": "code",
      "execution_count": null,
      "metadata": {
        "colab": {
          "base_uri": "https://localhost:8080/"
        },
        "id": "6G_fbzsjPnHK",
        "outputId": "106d9df7-44b4-48e1-999e-0ce01ecdd699"
      },
      "outputs": [
        {
          "output_type": "stream",
          "name": "stdout",
          "text": [
            "Train data results\n",
            "RMSE: 0.14678594479345852\n",
            "R-squared: 0.9771966370202033\n",
            "\n",
            "\n",
            "Test data results\n",
            "RMSE: 0.3953247167486138\n",
            "R-squared: 0.8466224902906214\n"
          ]
        }
      ],
      "source": [
        "# evaluating the model\n",
        "print('Train data results')\n",
        "print('RMSE:', np.sqrt(mean_squared_error(pred_train_rf, y_train)))\n",
        "print('R-squared:',r2_score(pred_train_rf,y_train))\n",
        "print('\\n')\n",
        "print('Test data results')\n",
        "print('RMSE:', np.sqrt(mean_squared_error(pred_test_rf, y_test)))\n",
        "print('R-squared:',r2_score(pred_test_rf,y_test))"
      ]
    },
    {
      "cell_type": "markdown",
      "metadata": {
        "id": "KI3NENqdoE51"
      },
      "source": [
        "* I think we get perfect score at this time, we get 0.145 rmse score\n",
        "\n",
        "       low rmse mean high accuracy\n",
        "* we get 0.97 R-squared for train data and 0.85 for test data\n",
        "now, i will test other model also to get perfect score"
      ]
    },
    {
      "cell_type": "code",
      "execution_count": null,
      "metadata": {
        "colab": {
          "base_uri": "https://localhost:8080/",
          "height": 206
        },
        "id": "NhLApBVcwrJe",
        "outputId": "c9f97e59-723a-415c-c6ea-d2a768be132e"
      },
      "outputs": [
        {
          "output_type": "execute_result",
          "data": {
            "text/html": [
              "\n",
              "  <div id=\"df-729cdcd1-5788-4dd2-bbfc-1c7d4155cfdd\">\n",
              "    <div class=\"colab-df-container\">\n",
              "      <div>\n",
              "<style scoped>\n",
              "    .dataframe tbody tr th:only-of-type {\n",
              "        vertical-align: middle;\n",
              "    }\n",
              "\n",
              "    .dataframe tbody tr th {\n",
              "        vertical-align: top;\n",
              "    }\n",
              "\n",
              "    .dataframe thead th {\n",
              "        text-align: right;\n",
              "    }\n",
              "</style>\n",
              "<table border=\"1\" class=\"dataframe\">\n",
              "  <thead>\n",
              "    <tr style=\"text-align: right;\">\n",
              "      <th></th>\n",
              "      <th>Actual</th>\n",
              "      <th>Predicted</th>\n",
              "    </tr>\n",
              "  </thead>\n",
              "  <tbody>\n",
              "    <tr>\n",
              "      <th>431</th>\n",
              "      <td>16.157316</td>\n",
              "      <td>16.077922</td>\n",
              "    </tr>\n",
              "    <tr>\n",
              "      <th>570</th>\n",
              "      <td>17.296751</td>\n",
              "      <td>17.201886</td>\n",
              "    </tr>\n",
              "    <tr>\n",
              "      <th>548</th>\n",
              "      <td>16.993564</td>\n",
              "      <td>16.559904</td>\n",
              "    </tr>\n",
              "    <tr>\n",
              "      <th>752</th>\n",
              "      <td>14.669926</td>\n",
              "      <td>14.661460</td>\n",
              "    </tr>\n",
              "    <tr>\n",
              "      <th>756</th>\n",
              "      <td>14.220976</td>\n",
              "      <td>14.395453</td>\n",
              "    </tr>\n",
              "  </tbody>\n",
              "</table>\n",
              "</div>\n",
              "      <button class=\"colab-df-convert\" onclick=\"convertToInteractive('df-729cdcd1-5788-4dd2-bbfc-1c7d4155cfdd')\"\n",
              "              title=\"Convert this dataframe to an interactive table.\"\n",
              "              style=\"display:none;\">\n",
              "        \n",
              "  <svg xmlns=\"http://www.w3.org/2000/svg\" height=\"24px\"viewBox=\"0 0 24 24\"\n",
              "       width=\"24px\">\n",
              "    <path d=\"M0 0h24v24H0V0z\" fill=\"none\"/>\n",
              "    <path d=\"M18.56 5.44l.94 2.06.94-2.06 2.06-.94-2.06-.94-.94-2.06-.94 2.06-2.06.94zm-11 1L8.5 8.5l.94-2.06 2.06-.94-2.06-.94L8.5 2.5l-.94 2.06-2.06.94zm10 10l.94 2.06.94-2.06 2.06-.94-2.06-.94-.94-2.06-.94 2.06-2.06.94z\"/><path d=\"M17.41 7.96l-1.37-1.37c-.4-.4-.92-.59-1.43-.59-.52 0-1.04.2-1.43.59L10.3 9.45l-7.72 7.72c-.78.78-.78 2.05 0 2.83L4 21.41c.39.39.9.59 1.41.59.51 0 1.02-.2 1.41-.59l7.78-7.78 2.81-2.81c.8-.78.8-2.07 0-2.86zM5.41 20L4 18.59l7.72-7.72 1.47 1.35L5.41 20z\"/>\n",
              "  </svg>\n",
              "      </button>\n",
              "      \n",
              "  <style>\n",
              "    .colab-df-container {\n",
              "      display:flex;\n",
              "      flex-wrap:wrap;\n",
              "      gap: 12px;\n",
              "    }\n",
              "\n",
              "    .colab-df-convert {\n",
              "      background-color: #E8F0FE;\n",
              "      border: none;\n",
              "      border-radius: 50%;\n",
              "      cursor: pointer;\n",
              "      display: none;\n",
              "      fill: #1967D2;\n",
              "      height: 32px;\n",
              "      padding: 0 0 0 0;\n",
              "      width: 32px;\n",
              "    }\n",
              "\n",
              "    .colab-df-convert:hover {\n",
              "      background-color: #E2EBFA;\n",
              "      box-shadow: 0px 1px 2px rgba(60, 64, 67, 0.3), 0px 1px 3px 1px rgba(60, 64, 67, 0.15);\n",
              "      fill: #174EA6;\n",
              "    }\n",
              "\n",
              "    [theme=dark] .colab-df-convert {\n",
              "      background-color: #3B4455;\n",
              "      fill: #D2E3FC;\n",
              "    }\n",
              "\n",
              "    [theme=dark] .colab-df-convert:hover {\n",
              "      background-color: #434B5C;\n",
              "      box-shadow: 0px 1px 3px 1px rgba(0, 0, 0, 0.15);\n",
              "      filter: drop-shadow(0px 1px 2px rgba(0, 0, 0, 0.3));\n",
              "      fill: #FFFFFF;\n",
              "    }\n",
              "  </style>\n",
              "\n",
              "      <script>\n",
              "        const buttonEl =\n",
              "          document.querySelector('#df-729cdcd1-5788-4dd2-bbfc-1c7d4155cfdd button.colab-df-convert');\n",
              "        buttonEl.style.display =\n",
              "          google.colab.kernel.accessAllowed ? 'block' : 'none';\n",
              "\n",
              "        async function convertToInteractive(key) {\n",
              "          const element = document.querySelector('#df-729cdcd1-5788-4dd2-bbfc-1c7d4155cfdd');\n",
              "          const dataTable =\n",
              "            await google.colab.kernel.invokeFunction('convertToInteractive',\n",
              "                                                     [key], {});\n",
              "          if (!dataTable) return;\n",
              "\n",
              "          const docLinkHtml = 'Like what you see? Visit the ' +\n",
              "            '<a target=\"_blank\" href=https://colab.research.google.com/notebooks/data_table.ipynb>data table notebook</a>'\n",
              "            + ' to learn more about interactive tables.';\n",
              "          element.innerHTML = '';\n",
              "          dataTable['output_type'] = 'display_data';\n",
              "          await google.colab.output.renderOutput(dataTable, element);\n",
              "          const docLink = document.createElement('div');\n",
              "          docLink.innerHTML = docLinkHtml;\n",
              "          element.appendChild(docLink);\n",
              "        }\n",
              "      </script>\n",
              "    </div>\n",
              "  </div>\n",
              "  "
            ],
            "text/plain": [
              "        Actual  Predicted\n",
              "431  16.157316  16.077922\n",
              "570  17.296751  17.201886\n",
              "548  16.993564  16.559904\n",
              "752  14.669926  14.661460\n",
              "756  14.220976  14.395453"
            ]
          },
          "metadata": {},
          "execution_count": 171
        }
      ],
      "source": [
        "df=pd.DataFrame({'Actual':y_train,'Predicted': pred_train_rf })\n",
        "df.head()"
      ]
    },
    {
      "cell_type": "code",
      "execution_count": null,
      "metadata": {
        "colab": {
          "base_uri": "https://localhost:8080/",
          "height": 297
        },
        "id": "HmY3rKJbw7fA",
        "outputId": "519cda42-f893-4147-acc5-5321499137f3"
      },
      "outputs": [
        {
          "output_type": "execute_result",
          "data": {
            "text/plain": [
              "<matplotlib.axes._subplots.AxesSubplot at 0x7f62e0c9c650>"
            ]
          },
          "metadata": {},
          "execution_count": 172
        },
        {
          "output_type": "display_data",
          "data": {
            "image/png": "[encoded data removed]",
            "text/plain": [
              "<Figure size 432x288 with 1 Axes>"
            ]
          },
          "metadata": {
            "needs_background": "light"
          }
        }
      ],
      "source": [
        "sns.regplot(x='Actual',y='Predicted',data=df)"
      ]
    },
    {
      "cell_type": "markdown",
      "metadata": {
        "id": "1Ct0upHgzt39"
      },
      "source": [
        "we predicted so well"
      ]
    },
    {
      "cell_type": "markdown",
      "metadata": {
        "id": "Un-OWhRypN_3"
      },
      "source": [
        "In train data, line goes perfectly also due to less amount of data is use\n",
        " in test we donot get perfect result as train data. but our model works\n",
        " perfectly"
      ]
    },
    {
      "cell_type": "markdown",
      "metadata": {
        "id": "It2dn-2PQLTC"
      },
      "source": [
        "# Gradient Boosting Regressor"
      ]
    },
    {
      "cell_type": "markdown",
      "metadata": {
        "id": "oBXl0ZtM4Y44"
      },
      "source": [
        "* Gradient boosting is one of the boosting strategies that is used to reduce the model's bias error. The difference between the current prediction and the known correct target value is calculated using gradient boosting regression.\n",
        "\n",
        "* The term \"residual\" refers to this difference. Gradient boosting regression is then used to train a weak model that maps features to the residual. This residual, which is predicted by a weak model, is added to the existing model input, nudges the model towards the correct target. Repetition of this step improves the model's overall prediction.\n",
        "\n",
        "* The following are the high-level steps we use to develop Gradient Boosting Regression:\n",
        "\n",
        "* Choose a week learner.\n",
        "* Use a model that is additive.\n",
        "* Define a loss function.\n",
        "* Reduce the loss function as much as possible.\n",
        ""
      ]
    },
    {
      "cell_type": "code",
      "execution_count": null,
      "metadata": {
        "id": "z-PJdtTNQN29"
      },
      "outputs": [],
      "source": [
        "# import gradient boosting regressor package\n",
        "from sklearn.ensemble import GradientBoostingRegressor\n",
        "gbr = GradientBoostingRegressor()\n",
        "\n",
        "# fitting training data\n",
        "gbr.fit(X_train, y_train)\n",
        "\n",
        "# predicting train data\n",
        "pred_train_gbr = gbr.predict(X_train)\n",
        "\n",
        "# predicting test data\n",
        "pred_test_gbr = gbr.predict(X_test)\n"
      ]
    },
    {
      "cell_type": "code",
      "execution_count": null,
      "metadata": {
        "colab": {
          "base_uri": "https://localhost:8080/"
        },
        "id": "F8Fqp7UEQRwd",
        "outputId": "042946b6-2789-4ffa-9001-52d7498fad6c"
      },
      "outputs": [
        {
          "output_type": "stream",
          "name": "stdout",
          "text": [
            "Train data results\n",
            "RMSE: 0.26776022461311766\n",
            "R-squared: 0.9224258474159086\n",
            "\n",
            "\n",
            "Test data results\n",
            "RMSE: 0.3881231989497671\n",
            "R-squared: 0.8494305466955069\n"
          ]
        }
      ],
      "source": [
        "# evaluating the model\n",
        "print('Train data results')\n",
        "print('RMSE:', np.sqrt(mean_squared_error(pred_train_gbr, y_train)))\n",
        "print('R-squared:',r2_score(pred_train_gbr,y_train))\n",
        "print('\\n')\n",
        "print('Test data results')\n",
        "print('RMSE:', np.sqrt(mean_squared_error(pred_test_gbr, y_test)))\n",
        "print('R-squared:',r2_score(pred_test_gbr,y_test))"
      ]
    },
    {
      "cell_type": "markdown",
      "metadata": {
        "id": "0eMIqZCN2js3"
      },
      "source": [
        "* we get 0.267 rmse score for train data and 0.388 rmse for Test data\n",
        "* we get didnot get low rmse as compare to  random forest"
      ]
    },
    {
      "cell_type": "code",
      "execution_count": null,
      "metadata": {
        "colab": {
          "base_uri": "https://localhost:8080/",
          "height": 206
        },
        "id": "8JSS7IVrz8Ez",
        "outputId": "1da07c62-8c4d-4106-f1da-12cb76d9d489"
      },
      "outputs": [
        {
          "output_type": "execute_result",
          "data": {
            "text/html": [
              "\n",
              "  <div id=\"df-d355f580-a13d-496e-be29-872d08f042c0\">\n",
              "    <div class=\"colab-df-container\">\n",
              "      <div>\n",
              "<style scoped>\n",
              "    .dataframe tbody tr th:only-of-type {\n",
              "        vertical-align: middle;\n",
              "    }\n",
              "\n",
              "    .dataframe tbody tr th {\n",
              "        vertical-align: top;\n",
              "    }\n",
              "\n",
              "    .dataframe thead th {\n",
              "        text-align: right;\n",
              "    }\n",
              "</style>\n",
              "<table border=\"1\" class=\"dataframe\">\n",
              "  <thead>\n",
              "    <tr style=\"text-align: right;\">\n",
              "      <th></th>\n",
              "      <th>Actual</th>\n",
              "      <th>Predicted</th>\n",
              "    </tr>\n",
              "  </thead>\n",
              "  <tbody>\n",
              "    <tr>\n",
              "      <th>431</th>\n",
              "      <td>16.157316</td>\n",
              "      <td>16.125594</td>\n",
              "    </tr>\n",
              "    <tr>\n",
              "      <th>570</th>\n",
              "      <td>17.296751</td>\n",
              "      <td>17.112400</td>\n",
              "    </tr>\n",
              "    <tr>\n",
              "      <th>548</th>\n",
              "      <td>16.993564</td>\n",
              "      <td>16.291593</td>\n",
              "    </tr>\n",
              "    <tr>\n",
              "      <th>752</th>\n",
              "      <td>14.669926</td>\n",
              "      <td>14.582781</td>\n",
              "    </tr>\n",
              "    <tr>\n",
              "      <th>756</th>\n",
              "      <td>14.220976</td>\n",
              "      <td>14.599989</td>\n",
              "    </tr>\n",
              "  </tbody>\n",
              "</table>\n",
              "</div>\n",
              "      <button class=\"colab-df-convert\" onclick=\"convertToInteractive('df-d355f580-a13d-496e-be29-872d08f042c0')\"\n",
              "              title=\"Convert this dataframe to an interactive table.\"\n",
              "              style=\"display:none;\">\n",
              "        \n",
              "  <svg xmlns=\"http://www.w3.org/2000/svg\" height=\"24px\"viewBox=\"0 0 24 24\"\n",
              "       width=\"24px\">\n",
              "    <path d=\"M0 0h24v24H0V0z\" fill=\"none\"/>\n",
              "    <path d=\"M18.56 5.44l.94 2.06.94-2.06 2.06-.94-2.06-.94-.94-2.06-.94 2.06-2.06.94zm-11 1L8.5 8.5l.94-2.06 2.06-.94-2.06-.94L8.5 2.5l-.94 2.06-2.06.94zm10 10l.94 2.06.94-2.06 2.06-.94-2.06-.94-.94-2.06-.94 2.06-2.06.94z\"/><path d=\"M17.41 7.96l-1.37-1.37c-.4-.4-.92-.59-1.43-.59-.52 0-1.04.2-1.43.59L10.3 9.45l-7.72 7.72c-.78.78-.78 2.05 0 2.83L4 21.41c.39.39.9.59 1.41.59.51 0 1.02-.2 1.41-.59l7.78-7.78 2.81-2.81c.8-.78.8-2.07 0-2.86zM5.41 20L4 18.59l7.72-7.72 1.47 1.35L5.41 20z\"/>\n",
              "  </svg>\n",
              "      </button>\n",
              "      \n",
              "  <style>\n",
              "    .colab-df-container {\n",
              "      display:flex;\n",
              "      flex-wrap:wrap;\n",
              "      gap: 12px;\n",
              "    }\n",
              "\n",
              "    .colab-df-convert {\n",
              "      background-color: #E8F0FE;\n",
              "      border: none;\n",
              "      border-radius: 50%;\n",
              "      cursor: pointer;\n",
              "      display: none;\n",
              "      fill: #1967D2;\n",
              "      height: 32px;\n",
              "      padding: 0 0 0 0;\n",
              "      width: 32px;\n",
              "    }\n",
              "\n",
              "    .colab-df-convert:hover {\n",
              "      background-color: #E2EBFA;\n",
              "      box-shadow: 0px 1px 2px rgba(60, 64, 67, 0.3), 0px 1px 3px 1px rgba(60, 64, 67, 0.15);\n",
              "      fill: #174EA6;\n",
              "    }\n",
              "\n",
              "    [theme=dark] .colab-df-convert {\n",
              "      background-color: #3B4455;\n",
              "      fill: #D2E3FC;\n",
              "    }\n",
              "\n",
              "    [theme=dark] .colab-df-convert:hover {\n",
              "      background-color: #434B5C;\n",
              "      box-shadow: 0px 1px 3px 1px rgba(0, 0, 0, 0.15);\n",
              "      filter: drop-shadow(0px 1px 2px rgba(0, 0, 0, 0.3));\n",
              "      fill: #FFFFFF;\n",
              "    }\n",
              "  </style>\n",
              "\n",
              "      <script>\n",
              "        const buttonEl =\n",
              "          document.querySelector('#df-d355f580-a13d-496e-be29-872d08f042c0 button.colab-df-convert');\n",
              "        buttonEl.style.display =\n",
              "          google.colab.kernel.accessAllowed ? 'block' : 'none';\n",
              "\n",
              "        async function convertToInteractive(key) {\n",
              "          const element = document.querySelector('#df-d355f580-a13d-496e-be29-872d08f042c0');\n",
              "          const dataTable =\n",
              "            await google.colab.kernel.invokeFunction('convertToInteractive',\n",
              "                                                     [key], {});\n",
              "          if (!dataTable) return;\n",
              "\n",
              "          const docLinkHtml = 'Like what you see? Visit the ' +\n",
              "            '<a target=\"_blank\" href=https://colab.research.google.com/notebooks/data_table.ipynb>data table notebook</a>'\n",
              "            + ' to learn more about interactive tables.';\n",
              "          element.innerHTML = '';\n",
              "          dataTable['output_type'] = 'display_data';\n",
              "          await google.colab.output.renderOutput(dataTable, element);\n",
              "          const docLink = document.createElement('div');\n",
              "          docLink.innerHTML = docLinkHtml;\n",
              "          element.appendChild(docLink);\n",
              "        }\n",
              "      </script>\n",
              "    </div>\n",
              "  </div>\n",
              "  "
            ],
            "text/plain": [
              "        Actual  Predicted\n",
              "431  16.157316  16.125594\n",
              "570  17.296751  17.112400\n",
              "548  16.993564  16.291593\n",
              "752  14.669926  14.582781\n",
              "756  14.220976  14.599989"
            ]
          },
          "metadata": {},
          "execution_count": 175
        }
      ],
      "source": [
        "df=pd.DataFrame({'Actual':y_train,'Predicted': pred_train_gbr })\n",
        "df.head()"
      ]
    },
    {
      "cell_type": "code",
      "execution_count": null,
      "metadata": {
        "id": "k-gwuvv4z8Sh",
        "colab": {
          "base_uri": "https://localhost:8080/",
          "height": 297
        },
        "outputId": "ecd448db-bc02-440e-e7cf-ac12b71fa1e8"
      },
      "outputs": [
        {
          "output_type": "execute_result",
          "data": {
            "text/plain": [
              "<matplotlib.axes._subplots.AxesSubplot at 0x7f62e07c8910>"
            ]
          },
          "metadata": {},
          "execution_count": 176
        },
        {
          "output_type": "display_data",
          "data": {
            "image/png": "[encoded data removed]",
            "text/plain": [
              "<Figure size 432x288 with 1 Axes>"
            ]
          },
          "metadata": {
            "needs_background": "light"
          }
        }
      ],
      "source": [
        "sns.regplot(x='Actual',y='Predicted',data=df)"
      ]
    },
    {
      "cell_type": "markdown",
      "metadata": {
        "id": "3P52ZTjf0YaR"
      },
      "source": [
        "* In this model aslo we predicted well but not good as random forest"
      ]
    },
    {
      "cell_type": "code",
      "execution_count": null,
      "metadata": {
        "id": "Ya-5fWenQg7r",
        "colab": {
          "base_uri": "https://localhost:8080/",
          "height": 325
        },
        "outputId": "4a95240c-ce8e-4f01-b5b4-ea5534edf188"
      },
      "outputs": [
        {
          "output_type": "display_data",
          "data": {
            "image/png": "[encoded data removed]",
            "text/plain": [
              "<Figure size 1080x720 with 2 Axes>"
            ]
          },
          "metadata": {
            "needs_background": "light"
          }
        }
      ],
      "source": [
        "# plotting results for visual\n",
        "plt.figure(figsize=(15,10))\n",
        "plt.subplot(2,2,1)\n",
        "plt.title('Train data prediction')\n",
        "sns.scatterplot(x=y_train,y=pred_train_gbr)\n",
        "plt.subplot(2,2,2)\n",
        "plt.title('Test data prediction')\n",
        "sns.scatterplot(x=y_test,y=pred_test_gbr)\n",
        "plt.show()"
      ]
    },
    {
      "cell_type": "markdown",
      "metadata": {
        "id": "w05v-CO41Rd2"
      },
      "source": [
        "Gets good score in train and test data but not enough as Random forest"
      ]
    },
    {
      "cell_type": "markdown",
      "metadata": {
        "id": "qPIh6YN2QxyL"
      },
      "source": [
        "#Xtreme Gradient Boosting Regressor"
      ]
    },
    {
      "cell_type": "markdown",
      "metadata": {
        "id": "tokduBlv9J6C"
      },
      "source": [
        "* XGBoost is a fast gradient boosting solution that can be used for regression predictive modeling.\n",
        "The weak learners in gradient boosting for regression are regression trees, and each regression tree transfers an input data point to one of its leaves, which carries a continuous score. XGBoost uses a regularized (L1 and L2) objective function that combines a convex loss function (based on the difference between predicted and target outputs) with a penalty term for model complexity to minimize a regularized (L1 and L2) objective function (in other words, the regression tree functions).\n",
        "\n",
        "* The training is repeated iteratively, with new trees being added to predict the residuals or errors of previous trees, which are then integrated with previous trees to provide the final prediction. It's termed gradient boosting because while adding new models, it employs a gradient descent approach to reduce loss.\n"
      ]
    },
    {
      "cell_type": "code",
      "execution_count": null,
      "metadata": {
        "id": "NSO-NKnTQy1N",
        "colab": {
          "base_uri": "https://localhost:8080/"
        },
        "outputId": "596add9b-3f09-452b-bcf7-dbaae928d77f"
      },
      "outputs": [
        {
          "output_type": "stream",
          "name": "stdout",
          "text": [
            "[04:51:38] WARNING: /workspace/src/objective/regression_obj.cu:152: reg:linear is now deprecated in favor of reg:squarederror.\n"
          ]
        }
      ],
      "source": [
        "# importing xtreme boosting regressor package\n",
        "from xgboost import XGBRegressor\n",
        "xgb = XGBRegressor()\n",
        "\n",
        "# fitting training data\n",
        "xgb.fit(X_train,y_train)\n",
        "\n",
        "# predicting train data\n",
        "pred_train_xgb = xgb.predict(X_train)\n",
        "\n",
        "# predicting test data\n",
        "pred_test_xgb = xgb.predict(X_test)"
      ]
    },
    {
      "cell_type": "code",
      "execution_count": null,
      "metadata": {
        "id": "vsOgRu4eQ6Dy",
        "colab": {
          "base_uri": "https://localhost:8080/"
        },
        "outputId": "053e6a7a-2429-4790-bf22-23ab61da6b92"
      },
      "outputs": [
        {
          "output_type": "stream",
          "name": "stdout",
          "text": [
            "Train data results\n",
            "RMSE: 0.28744633036274475\n",
            "R-squared: 0.9090740522031442\n",
            "\n",
            "\n",
            "Test data results\n",
            "RMSE: 0.39607211415880245\n",
            "R-squared: 0.8431624157028421\n"
          ]
        }
      ],
      "source": [
        "# evaluating the model\n",
        "print('Train data results')\n",
        "print('RMSE:', np.sqrt(mean_squared_error(pred_train_xgb, y_train)))\n",
        "print('R-squared:',r2_score(pred_train_xgb,y_train))\n",
        "print('\\n')\n",
        "print('Test data results')\n",
        "print('RMSE:', np.sqrt(mean_squared_error(pred_test_xgb, y_test)))\n",
        "print('R-squared:',r2_score(pred_test_xgb,y_test))"
      ]
    },
    {
      "cell_type": "code",
      "execution_count": null,
      "metadata": {
        "id": "mL_Gxo2Iu94x",
        "colab": {
          "base_uri": "https://localhost:8080/",
          "height": 206
        },
        "outputId": "1b3e5f9b-7661-4b70-b2c6-1aab07da6ecd"
      },
      "outputs": [
        {
          "output_type": "execute_result",
          "data": {
            "text/html": [
              "\n",
              "  <div id=\"df-be546518-f9d5-4ccf-aceb-820c43bd29b1\">\n",
              "    <div class=\"colab-df-container\">\n",
              "      <div>\n",
              "<style scoped>\n",
              "    .dataframe tbody tr th:only-of-type {\n",
              "        vertical-align: middle;\n",
              "    }\n",
              "\n",
              "    .dataframe tbody tr th {\n",
              "        vertical-align: top;\n",
              "    }\n",
              "\n",
              "    .dataframe thead th {\n",
              "        text-align: right;\n",
              "    }\n",
              "</style>\n",
              "<table border=\"1\" class=\"dataframe\">\n",
              "  <thead>\n",
              "    <tr style=\"text-align: right;\">\n",
              "      <th></th>\n",
              "      <th>Actual</th>\n",
              "      <th>Predicted</th>\n",
              "    </tr>\n",
              "  </thead>\n",
              "  <tbody>\n",
              "    <tr>\n",
              "      <th>431</th>\n",
              "      <td>16.157316</td>\n",
              "      <td>16.028328</td>\n",
              "    </tr>\n",
              "    <tr>\n",
              "      <th>570</th>\n",
              "      <td>17.296751</td>\n",
              "      <td>17.026531</td>\n",
              "    </tr>\n",
              "    <tr>\n",
              "      <th>548</th>\n",
              "      <td>16.993564</td>\n",
              "      <td>16.329842</td>\n",
              "    </tr>\n",
              "    <tr>\n",
              "      <th>752</th>\n",
              "      <td>14.669926</td>\n",
              "      <td>14.605536</td>\n",
              "    </tr>\n",
              "    <tr>\n",
              "      <th>756</th>\n",
              "      <td>14.220976</td>\n",
              "      <td>14.833508</td>\n",
              "    </tr>\n",
              "  </tbody>\n",
              "</table>\n",
              "</div>\n",
              "      <button class=\"colab-df-convert\" onclick=\"convertToInteractive('df-be546518-f9d5-4ccf-aceb-820c43bd29b1')\"\n",
              "              title=\"Convert this dataframe to an interactive table.\"\n",
              "              style=\"display:none;\">\n",
              "        \n",
              "  <svg xmlns=\"http://www.w3.org/2000/svg\" height=\"24px\"viewBox=\"0 0 24 24\"\n",
              "       width=\"24px\">\n",
              "    <path d=\"M0 0h24v24H0V0z\" fill=\"none\"/>\n",
              "    <path d=\"M18.56 5.44l.94 2.06.94-2.06 2.06-.94-2.06-.94-.94-2.06-.94 2.06-2.06.94zm-11 1L8.5 8.5l.94-2.06 2.06-.94-2.06-.94L8.5 2.5l-.94 2.06-2.06.94zm10 10l.94 2.06.94-2.06 2.06-.94-2.06-.94-.94-2.06-.94 2.06-2.06.94z\"/><path d=\"M17.41 7.96l-1.37-1.37c-.4-.4-.92-.59-1.43-.59-.52 0-1.04.2-1.43.59L10.3 9.45l-7.72 7.72c-.78.78-.78 2.05 0 2.83L4 21.41c.39.39.9.59 1.41.59.51 0 1.02-.2 1.41-.59l7.78-7.78 2.81-2.81c.8-.78.8-2.07 0-2.86zM5.41 20L4 18.59l7.72-7.72 1.47 1.35L5.41 20z\"/>\n",
              "  </svg>\n",
              "      </button>\n",
              "      \n",
              "  <style>\n",
              "    .colab-df-container {\n",
              "      display:flex;\n",
              "      flex-wrap:wrap;\n",
              "      gap: 12px;\n",
              "    }\n",
              "\n",
              "    .colab-df-convert {\n",
              "      background-color: #E8F0FE;\n",
              "      border: none;\n",
              "      border-radius: 50%;\n",
              "      cursor: pointer;\n",
              "      display: none;\n",
              "      fill: #1967D2;\n",
              "      height: 32px;\n",
              "      padding: 0 0 0 0;\n",
              "      width: 32px;\n",
              "    }\n",
              "\n",
              "    .colab-df-convert:hover {\n",
              "      background-color: #E2EBFA;\n",
              "      box-shadow: 0px 1px 2px rgba(60, 64, 67, 0.3), 0px 1px 3px 1px rgba(60, 64, 67, 0.15);\n",
              "      fill: #174EA6;\n",
              "    }\n",
              "\n",
              "    [theme=dark] .colab-df-convert {\n",
              "      background-color: #3B4455;\n",
              "      fill: #D2E3FC;\n",
              "    }\n",
              "\n",
              "    [theme=dark] .colab-df-convert:hover {\n",
              "      background-color: #434B5C;\n",
              "      box-shadow: 0px 1px 3px 1px rgba(0, 0, 0, 0.15);\n",
              "      filter: drop-shadow(0px 1px 2px rgba(0, 0, 0, 0.3));\n",
              "      fill: #FFFFFF;\n",
              "    }\n",
              "  </style>\n",
              "\n",
              "      <script>\n",
              "        const buttonEl =\n",
              "          document.querySelector('#df-be546518-f9d5-4ccf-aceb-820c43bd29b1 button.colab-df-convert');\n",
              "        buttonEl.style.display =\n",
              "          google.colab.kernel.accessAllowed ? 'block' : 'none';\n",
              "\n",
              "        async function convertToInteractive(key) {\n",
              "          const element = document.querySelector('#df-be546518-f9d5-4ccf-aceb-820c43bd29b1');\n",
              "          const dataTable =\n",
              "            await google.colab.kernel.invokeFunction('convertToInteractive',\n",
              "                                                     [key], {});\n",
              "          if (!dataTable) return;\n",
              "\n",
              "          const docLinkHtml = 'Like what you see? Visit the ' +\n",
              "            '<a target=\"_blank\" href=https://colab.research.google.com/notebooks/data_table.ipynb>data table notebook</a>'\n",
              "            + ' to learn more about interactive tables.';\n",
              "          element.innerHTML = '';\n",
              "          dataTable['output_type'] = 'display_data';\n",
              "          await google.colab.output.renderOutput(dataTable, element);\n",
              "          const docLink = document.createElement('div');\n",
              "          docLink.innerHTML = docLinkHtml;\n",
              "          element.appendChild(docLink);\n",
              "        }\n",
              "      </script>\n",
              "    </div>\n",
              "  </div>\n",
              "  "
            ],
            "text/plain": [
              "        Actual  Predicted\n",
              "431  16.157316  16.028328\n",
              "570  17.296751  17.026531\n",
              "548  16.993564  16.329842\n",
              "752  14.669926  14.605536\n",
              "756  14.220976  14.833508"
            ]
          },
          "metadata": {},
          "execution_count": 180
        }
      ],
      "source": [
        "df=pd.DataFrame({'Actual':y_train,'Predicted': pred_train_xgb })\n",
        "df.head()"
      ]
    },
    {
      "cell_type": "code",
      "execution_count": null,
      "metadata": {
        "id": "5LCAW6itv6xg",
        "colab": {
          "base_uri": "https://localhost:8080/",
          "height": 297
        },
        "outputId": "af0e875b-9416-45eb-d293-7533bbb1a6db"
      },
      "outputs": [
        {
          "output_type": "execute_result",
          "data": {
            "text/plain": [
              "<matplotlib.axes._subplots.AxesSubplot at 0x7f62e0392d90>"
            ]
          },
          "metadata": {},
          "execution_count": 181
        },
        {
          "output_type": "display_data",
          "data": {
            "image/png": "[encoded data removed]",
            "text/plain": [
              "<Figure size 432x288 with 1 Axes>"
            ]
          },
          "metadata": {
            "needs_background": "light"
          }
        }
      ],
      "source": [
        "sns.regplot(x='Actual',y='Predicted',data=df)"
      ]
    },
    {
      "cell_type": "code",
      "execution_count": null,
      "metadata": {
        "id": "DOo8--MIRDoi",
        "colab": {
          "base_uri": "https://localhost:8080/",
          "height": 325
        },
        "outputId": "e2c79b63-a70e-47ce-c3e9-aaabba2027c1"
      },
      "outputs": [
        {
          "output_type": "display_data",
          "data": {
            "image/png": "[encoded data removed]",
            "text/plain": [
              "<Figure size 1080x720 with 2 Axes>"
            ]
          },
          "metadata": {
            "needs_background": "light"
          }
        }
      ],
      "source": [
        "# plotting results for visual\n",
        "plt.figure(figsize=(15,10))\n",
        "plt.subplot(2,2,1)\n",
        "plt.title('Train data prediction')\n",
        "sns.scatterplot(x=y_train,y=pred_train_xgb)\n",
        "plt.subplot(2,2,2)\n",
        "plt.title('Test data prediction')\n",
        "sns.scatterplot(x=y_test,y=pred_test_xgb)\n",
        "plt.show()"
      ]
    },
    {
      "cell_type": "markdown",
      "metadata": {
        "id": "bH27cqs22A9-"
      },
      "source": [
        "Scores is not enough as Random forest"
      ]
    },
    {
      "cell_type": "code",
      "execution_count": null,
      "metadata": {
        "id": "wRouzNNsRiqd",
        "colab": {
          "base_uri": "https://localhost:8080/",
          "height": 175
        },
        "outputId": "b6055b4a-86c2-4816-be97-d7f5817ca9ab"
      },
      "outputs": [
        {
          "output_type": "execute_result",
          "data": {
            "text/html": [
              "\n",
              "  <div id=\"df-1bd92931-3587-4fd0-9a4c-371517aea739\">\n",
              "    <div class=\"colab-df-container\">\n",
              "      <div>\n",
              "<style scoped>\n",
              "    .dataframe tbody tr th:only-of-type {\n",
              "        vertical-align: middle;\n",
              "    }\n",
              "\n",
              "    .dataframe tbody tr th {\n",
              "        vertical-align: top;\n",
              "    }\n",
              "\n",
              "    .dataframe thead th {\n",
              "        text-align: right;\n",
              "    }\n",
              "</style>\n",
              "<table border=\"1\" class=\"dataframe\">\n",
              "  <thead>\n",
              "    <tr style=\"text-align: right;\">\n",
              "      <th></th>\n",
              "      <th>algo</th>\n",
              "      <th>train_score</th>\n",
              "      <th>test_score</th>\n",
              "    </tr>\n",
              "  </thead>\n",
              "  <tbody>\n",
              "    <tr>\n",
              "      <th>0</th>\n",
              "      <td>Linear_Regression</td>\n",
              "      <td>0.691372</td>\n",
              "      <td>0.679443</td>\n",
              "    </tr>\n",
              "    <tr>\n",
              "      <th>1</th>\n",
              "      <td>Random_Forest</td>\n",
              "      <td>0.977197</td>\n",
              "      <td>0.846622</td>\n",
              "    </tr>\n",
              "    <tr>\n",
              "      <th>2</th>\n",
              "      <td>Gradient_Boosting_Regressor</td>\n",
              "      <td>0.922426</td>\n",
              "      <td>0.849431</td>\n",
              "    </tr>\n",
              "    <tr>\n",
              "      <th>3</th>\n",
              "      <td>XGBoosting_Regressor</td>\n",
              "      <td>0.909074</td>\n",
              "      <td>0.843162</td>\n",
              "    </tr>\n",
              "  </tbody>\n",
              "</table>\n",
              "</div>\n",
              "      <button class=\"colab-df-convert\" onclick=\"convertToInteractive('df-1bd92931-3587-4fd0-9a4c-371517aea739')\"\n",
              "              title=\"Convert this dataframe to an interactive table.\"\n",
              "              style=\"display:none;\">\n",
              "        \n",
              "  <svg xmlns=\"http://www.w3.org/2000/svg\" height=\"24px\"viewBox=\"0 0 24 24\"\n",
              "       width=\"24px\">\n",
              "    <path d=\"M0 0h24v24H0V0z\" fill=\"none\"/>\n",
              "    <path d=\"M18.56 5.44l.94 2.06.94-2.06 2.06-.94-2.06-.94-.94-2.06-.94 2.06-2.06.94zm-11 1L8.5 8.5l.94-2.06 2.06-.94-2.06-.94L8.5 2.5l-.94 2.06-2.06.94zm10 10l.94 2.06.94-2.06 2.06-.94-2.06-.94-.94-2.06-.94 2.06-2.06.94z\"/><path d=\"M17.41 7.96l-1.37-1.37c-.4-.4-.92-.59-1.43-.59-.52 0-1.04.2-1.43.59L10.3 9.45l-7.72 7.72c-.78.78-.78 2.05 0 2.83L4 21.41c.39.39.9.59 1.41.59.51 0 1.02-.2 1.41-.59l7.78-7.78 2.81-2.81c.8-.78.8-2.07 0-2.86zM5.41 20L4 18.59l7.72-7.72 1.47 1.35L5.41 20z\"/>\n",
              "  </svg>\n",
              "      </button>\n",
              "      \n",
              "  <style>\n",
              "    .colab-df-container {\n",
              "      display:flex;\n",
              "      flex-wrap:wrap;\n",
              "      gap: 12px;\n",
              "    }\n",
              "\n",
              "    .colab-df-convert {\n",
              "      background-color: #E8F0FE;\n",
              "      border: none;\n",
              "      border-radius: 50%;\n",
              "      cursor: pointer;\n",
              "      display: none;\n",
              "      fill: #1967D2;\n",
              "      height: 32px;\n",
              "      padding: 0 0 0 0;\n",
              "      width: 32px;\n",
              "    }\n",
              "\n",
              "    .colab-df-convert:hover {\n",
              "      background-color: #E2EBFA;\n",
              "      box-shadow: 0px 1px 2px rgba(60, 64, 67, 0.3), 0px 1px 3px 1px rgba(60, 64, 67, 0.15);\n",
              "      fill: #174EA6;\n",
              "    }\n",
              "\n",
              "    [theme=dark] .colab-df-convert {\n",
              "      background-color: #3B4455;\n",
              "      fill: #D2E3FC;\n",
              "    }\n",
              "\n",
              "    [theme=dark] .colab-df-convert:hover {\n",
              "      background-color: #434B5C;\n",
              "      box-shadow: 0px 1px 3px 1px rgba(0, 0, 0, 0.15);\n",
              "      filter: drop-shadow(0px 1px 2px rgba(0, 0, 0, 0.3));\n",
              "      fill: #FFFFFF;\n",
              "    }\n",
              "  </style>\n",
              "\n",
              "      <script>\n",
              "        const buttonEl =\n",
              "          document.querySelector('#df-1bd92931-3587-4fd0-9a4c-371517aea739 button.colab-df-convert');\n",
              "        buttonEl.style.display =\n",
              "          google.colab.kernel.accessAllowed ? 'block' : 'none';\n",
              "\n",
              "        async function convertToInteractive(key) {\n",
              "          const element = document.querySelector('#df-1bd92931-3587-4fd0-9a4c-371517aea739');\n",
              "          const dataTable =\n",
              "            await google.colab.kernel.invokeFunction('convertToInteractive',\n",
              "                                                     [key], {});\n",
              "          if (!dataTable) return;\n",
              "\n",
              "          const docLinkHtml = 'Like what you see? Visit the ' +\n",
              "            '<a target=\"_blank\" href=https://colab.research.google.com/notebooks/data_table.ipynb>data table notebook</a>'\n",
              "            + ' to learn more about interactive tables.';\n",
              "          element.innerHTML = '';\n",
              "          dataTable['output_type'] = 'display_data';\n",
              "          await google.colab.output.renderOutput(dataTable, element);\n",
              "          const docLink = document.createElement('div');\n",
              "          docLink.innerHTML = docLinkHtml;\n",
              "          element.appendChild(docLink);\n",
              "        }\n",
              "      </script>\n",
              "    </div>\n",
              "  </div>\n",
              "  "
            ],
            "text/plain": [
              "                          algo  train_score  test_score\n",
              "0            Linear_Regression     0.691372    0.679443\n",
              "1                Random_Forest     0.977197    0.846622\n",
              "2  Gradient_Boosting_Regressor     0.922426    0.849431\n",
              "3         XGBoosting_Regressor     0.909074    0.843162"
            ]
          },
          "metadata": {},
          "execution_count": 183
        }
      ],
      "source": [
        "data = [['Linear_Regression',r2_score(pred_train_lr,y_train),r2_score(pred_test_lr,y_test)],\n",
        "        ['Random_Forest',r2_score(pred_train_rf,y_train),r2_score(pred_test_rf,y_test)],\n",
        "        ['Gradient_Boosting_Regressor',r2_score(pred_train_gbr,y_train),r2_score(pred_test_gbr,y_test)],\n",
        "        ['XGBoosting_Regressor',r2_score(pred_train_xgb,y_train),r2_score(pred_test_xgb,y_test)]]\n",
        "result = pd.DataFrame(data, columns=['algo','train_score','test_score'])\n",
        "result"
      ]
    },
    {
      "cell_type": "markdown",
      "metadata": {
        "id": "xpAb1ymDnLpn"
      },
      "source": [
        "* Out of these four model Random_Forest works perfectly for our data\n",
        "\n",
        "* In Random_Forest, we get 0.97 for train data and 0.84 for test data"
      ]
    },
    {
      "cell_type": "markdown",
      "metadata": {
        "id": "YJ55pjyqybz1"
      },
      "source": [
        "# conclusion"
      ]
    },
    {
      "cell_type": "markdown",
      "metadata": {
        "id": "f3pLSkNMyevJ"
      },
      "source": [
        "* I get know the important feacture variable which is used to predict the price of house\n",
        "\n",
        "* I get 97% accuracy on both train and 84 on test data\n",
        "\n",
        "* I have used four model for this project that is Linear Regression, Random Forest, Gradient_Boosting_Regressor and XGBoosting_Regressor\n",
        "\n",
        "* Out of Linear Regression, Random Forest, Gradient_Boosting_Regressor and XGBoosting_Regressor Random Forest work perfectly on our datasets."
      ]
    }
  ],
  "metadata": {
    "colab": {
      "provenance": []
    },
    "kernelspec": {
      "display_name": "Python 3",
      "name": "python3"
    },
    "language_info": {
      "name": "python"
    }
  },
  "nbformat": 4,
  "nbformat_minor": 0
}